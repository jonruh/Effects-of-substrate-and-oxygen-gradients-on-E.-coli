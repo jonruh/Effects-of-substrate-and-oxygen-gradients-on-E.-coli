{
 "cells": [
  {
   "cell_type": "markdown",
   "metadata": {},
   "source": [
    "# Expression Quality Control (Part 2)"
   ]
  },
  {
   "cell_type": "markdown",
   "metadata": {},
   "source": [
    "This is a template notebook for performing the final quality control on your organism's expression data. This requires a curated metadata sheet."
   ]
  },
  {
   "cell_type": "markdown",
   "metadata": {},
   "source": [
    "## Setup "
   ]
  },
  {
   "cell_type": "code",
   "execution_count": 9,
   "metadata": {
    "tags": []
   },
   "outputs": [],
   "source": [
    "import itertools\n",
    "\n",
    "import matplotlib.pyplot as plt\n",
    "import numpy as np\n",
    "import pandas as pd\n",
    "import seaborn as sns\n",
    "\n",
    "from os import path\n",
    "from scipy import stats\n",
    "from tqdm.notebook import tqdm"
   ]
  },
  {
   "cell_type": "code",
   "execution_count": 10,
   "metadata": {
    "tags": []
   },
   "outputs": [],
   "source": [
    "sns.set_style('ticks')"
   ]
  },
  {
   "cell_type": "markdown",
   "metadata": {},
   "source": [
    "### Inputs"
   ]
  },
  {
   "cell_type": "code",
   "execution_count": 11,
   "metadata": {
    "tags": []
   },
   "outputs": [],
   "source": [
    "logTPM_file = path.join('qc_data','raw_data','log_tpm.csv') # Enter log-TPM filename here\n",
    "all_metadata_file = path.join('qc_data','interim_data','DDB_SD_2_metadata_qc_part1_all.tsv') # Enter full metadata filename here\n",
    "metadata_file = path.join('qc_data','interim_data','DDB_SD_2_metadata_qc_part1_all_curated.tsv') # Enter curated metadata filename here"
   ]
  },
  {
   "cell_type": "markdown",
   "metadata": {},
   "source": [
    "### Load expression data"
   ]
  },
  {
   "cell_type": "code",
   "execution_count": 12,
   "metadata": {
    "tags": []
   },
   "outputs": [
    {
     "name": "stdout",
     "output_type": "stream",
     "text": [
      "Number of genes: 4355\n",
      "Number of samples: 18\n"
     ]
    },
    {
     "data": {
      "text/html": [
       "<div>\n",
       "<style scoped>\n",
       "    .dataframe tbody tr th:only-of-type {\n",
       "        vertical-align: middle;\n",
       "    }\n",
       "\n",
       "    .dataframe tbody tr th {\n",
       "        vertical-align: top;\n",
       "    }\n",
       "\n",
       "    .dataframe thead th {\n",
       "        text-align: right;\n",
       "    }\n",
       "</style>\n",
       "<table border=\"1\" class=\"dataframe\">\n",
       "  <thead>\n",
       "    <tr style=\"text-align: right;\">\n",
       "      <th></th>\n",
       "      <th>PD_131_R10_S1_1</th>\n",
       "      <th>PD_131_R10_S2_1</th>\n",
       "      <th>PD_131_R11_S1_1</th>\n",
       "      <th>PD_131_R11_S2_1</th>\n",
       "      <th>PD_131_R12_S1_1</th>\n",
       "      <th>PD_131_R12_S2_1</th>\n",
       "      <th>PD_131_R13_S1_1</th>\n",
       "      <th>PD_131_R13_S2_1</th>\n",
       "      <th>PD_131_R14_S1_1</th>\n",
       "      <th>PD_131_R15_S1_1</th>\n",
       "      <th>PD_131_R16_S1_1</th>\n",
       "      <th>PD_131_R5_S1_1</th>\n",
       "      <th>PD_131_R6_S1_1</th>\n",
       "      <th>PD_131_R7_S1_1</th>\n",
       "      <th>PD_131_R8_S1_1</th>\n",
       "      <th>PD_131_R8_S2_1</th>\n",
       "      <th>PD_131_R9_S1_1</th>\n",
       "      <th>PD_131_R9_S2_1</th>\n",
       "    </tr>\n",
       "    <tr>\n",
       "      <th>Geneid</th>\n",
       "      <th></th>\n",
       "      <th></th>\n",
       "      <th></th>\n",
       "      <th></th>\n",
       "      <th></th>\n",
       "      <th></th>\n",
       "      <th></th>\n",
       "      <th></th>\n",
       "      <th></th>\n",
       "      <th></th>\n",
       "      <th></th>\n",
       "      <th></th>\n",
       "      <th></th>\n",
       "      <th></th>\n",
       "      <th></th>\n",
       "      <th></th>\n",
       "      <th></th>\n",
       "      <th></th>\n",
       "    </tr>\n",
       "  </thead>\n",
       "  <tbody>\n",
       "    <tr>\n",
       "      <th>b0001</th>\n",
       "      <td>10.542071</td>\n",
       "      <td>10.524913</td>\n",
       "      <td>6.857832</td>\n",
       "      <td>6.906026</td>\n",
       "      <td>7.443168</td>\n",
       "      <td>6.222593</td>\n",
       "      <td>6.562538</td>\n",
       "      <td>6.132769</td>\n",
       "      <td>8.685035</td>\n",
       "      <td>10.323596</td>\n",
       "      <td>9.744801</td>\n",
       "      <td>10.454482</td>\n",
       "      <td>10.961873</td>\n",
       "      <td>10.434192</td>\n",
       "      <td>10.221538</td>\n",
       "      <td>9.691769</td>\n",
       "      <td>11.011117</td>\n",
       "      <td>9.842718</td>\n",
       "    </tr>\n",
       "    <tr>\n",
       "      <th>b0002</th>\n",
       "      <td>6.983476</td>\n",
       "      <td>6.571052</td>\n",
       "      <td>7.292860</td>\n",
       "      <td>7.389042</td>\n",
       "      <td>7.505922</td>\n",
       "      <td>7.447071</td>\n",
       "      <td>7.485142</td>\n",
       "      <td>7.472657</td>\n",
       "      <td>5.673380</td>\n",
       "      <td>10.944132</td>\n",
       "      <td>8.814414</td>\n",
       "      <td>6.305649</td>\n",
       "      <td>6.161097</td>\n",
       "      <td>6.195539</td>\n",
       "      <td>6.842824</td>\n",
       "      <td>6.691695</td>\n",
       "      <td>6.904192</td>\n",
       "      <td>6.912470</td>\n",
       "    </tr>\n",
       "    <tr>\n",
       "      <th>b0003</th>\n",
       "      <td>6.279387</td>\n",
       "      <td>7.662864</td>\n",
       "      <td>6.965879</td>\n",
       "      <td>7.184362</td>\n",
       "      <td>7.274294</td>\n",
       "      <td>7.027987</td>\n",
       "      <td>6.999492</td>\n",
       "      <td>7.137968</td>\n",
       "      <td>6.797405</td>\n",
       "      <td>10.051119</td>\n",
       "      <td>8.519854</td>\n",
       "      <td>6.449948</td>\n",
       "      <td>6.466657</td>\n",
       "      <td>6.496632</td>\n",
       "      <td>5.963528</td>\n",
       "      <td>7.843477</td>\n",
       "      <td>6.046817</td>\n",
       "      <td>7.946063</td>\n",
       "    </tr>\n",
       "    <tr>\n",
       "      <th>b0004</th>\n",
       "      <td>6.114676</td>\n",
       "      <td>7.631414</td>\n",
       "      <td>6.980479</td>\n",
       "      <td>7.101836</td>\n",
       "      <td>7.120167</td>\n",
       "      <td>7.007432</td>\n",
       "      <td>7.047836</td>\n",
       "      <td>7.111750</td>\n",
       "      <td>5.485923</td>\n",
       "      <td>9.567757</td>\n",
       "      <td>7.555921</td>\n",
       "      <td>6.171899</td>\n",
       "      <td>6.092189</td>\n",
       "      <td>6.048485</td>\n",
       "      <td>5.933726</td>\n",
       "      <td>7.815431</td>\n",
       "      <td>6.042058</td>\n",
       "      <td>7.986341</td>\n",
       "    </tr>\n",
       "    <tr>\n",
       "      <th>b0005</th>\n",
       "      <td>3.766329</td>\n",
       "      <td>3.760216</td>\n",
       "      <td>3.809159</td>\n",
       "      <td>3.996344</td>\n",
       "      <td>4.185988</td>\n",
       "      <td>3.633578</td>\n",
       "      <td>3.630016</td>\n",
       "      <td>4.117914</td>\n",
       "      <td>4.478287</td>\n",
       "      <td>5.279205</td>\n",
       "      <td>5.193783</td>\n",
       "      <td>3.639005</td>\n",
       "      <td>3.912071</td>\n",
       "      <td>3.554808</td>\n",
       "      <td>3.841613</td>\n",
       "      <td>4.159566</td>\n",
       "      <td>3.827429</td>\n",
       "      <td>4.334063</td>\n",
       "    </tr>\n",
       "  </tbody>\n",
       "</table>\n",
       "</div>"
      ],
      "text/plain": [
       "        PD_131_R10_S1_1  PD_131_R10_S2_1  PD_131_R11_S1_1  PD_131_R11_S2_1  \\\n",
       "Geneid                                                                       \n",
       "b0001         10.542071        10.524913         6.857832         6.906026   \n",
       "b0002          6.983476         6.571052         7.292860         7.389042   \n",
       "b0003          6.279387         7.662864         6.965879         7.184362   \n",
       "b0004          6.114676         7.631414         6.980479         7.101836   \n",
       "b0005          3.766329         3.760216         3.809159         3.996344   \n",
       "\n",
       "        PD_131_R12_S1_1  PD_131_R12_S2_1  PD_131_R13_S1_1  PD_131_R13_S2_1  \\\n",
       "Geneid                                                                       \n",
       "b0001          7.443168         6.222593         6.562538         6.132769   \n",
       "b0002          7.505922         7.447071         7.485142         7.472657   \n",
       "b0003          7.274294         7.027987         6.999492         7.137968   \n",
       "b0004          7.120167         7.007432         7.047836         7.111750   \n",
       "b0005          4.185988         3.633578         3.630016         4.117914   \n",
       "\n",
       "        PD_131_R14_S1_1  PD_131_R15_S1_1  PD_131_R16_S1_1  PD_131_R5_S1_1  \\\n",
       "Geneid                                                                      \n",
       "b0001          8.685035        10.323596         9.744801       10.454482   \n",
       "b0002          5.673380        10.944132         8.814414        6.305649   \n",
       "b0003          6.797405        10.051119         8.519854        6.449948   \n",
       "b0004          5.485923         9.567757         7.555921        6.171899   \n",
       "b0005          4.478287         5.279205         5.193783        3.639005   \n",
       "\n",
       "        PD_131_R6_S1_1  PD_131_R7_S1_1  PD_131_R8_S1_1  PD_131_R8_S2_1  \\\n",
       "Geneid                                                                   \n",
       "b0001        10.961873       10.434192       10.221538        9.691769   \n",
       "b0002         6.161097        6.195539        6.842824        6.691695   \n",
       "b0003         6.466657        6.496632        5.963528        7.843477   \n",
       "b0004         6.092189        6.048485        5.933726        7.815431   \n",
       "b0005         3.912071        3.554808        3.841613        4.159566   \n",
       "\n",
       "        PD_131_R9_S1_1  PD_131_R9_S2_1  \n",
       "Geneid                                  \n",
       "b0001        11.011117        9.842718  \n",
       "b0002         6.904192        6.912470  \n",
       "b0003         6.046817        7.946063  \n",
       "b0004         6.042058        7.986341  \n",
       "b0005         3.827429        4.334063  "
      ]
     },
     "execution_count": 12,
     "metadata": {},
     "output_type": "execute_result"
    }
   ],
   "source": [
    "DF_log_tpm = pd.read_csv(logTPM_file,index_col=0).fillna(0)\n",
    "print('Number of genes:',DF_log_tpm.shape[0])\n",
    "print('Number of samples:',DF_log_tpm.shape[1])\n",
    "DF_log_tpm.head()"
   ]
  },
  {
   "cell_type": "markdown",
   "metadata": {},
   "source": [
    "### Load metadata"
   ]
  },
  {
   "cell_type": "code",
   "execution_count": 13,
   "metadata": {
    "tags": []
   },
   "outputs": [
    {
     "name": "stdout",
     "output_type": "stream",
     "text": [
      "Number of samples with curated metadata: 18\n"
     ]
    },
    {
     "data": {
      "text/html": [
       "<div>\n",
       "<style scoped>\n",
       "    .dataframe tbody tr th:only-of-type {\n",
       "        vertical-align: middle;\n",
       "    }\n",
       "\n",
       "    .dataframe tbody tr th {\n",
       "        vertical-align: top;\n",
       "    }\n",
       "\n",
       "    .dataframe thead th {\n",
       "        text-align: right;\n",
       "    }\n",
       "</style>\n",
       "<table border=\"1\" class=\"dataframe\">\n",
       "  <thead>\n",
       "    <tr style=\"text-align: right;\">\n",
       "      <th></th>\n",
       "      <th>LibraryLayout</th>\n",
       "      <th>Platform</th>\n",
       "      <th>Run</th>\n",
       "      <th>R1</th>\n",
       "      <th>R2</th>\n",
       "      <th>passed_fastqc</th>\n",
       "      <th>passed_reads_mapped_to_CDS</th>\n",
       "      <th>passed_global_correlation</th>\n",
       "      <th>project</th>\n",
       "      <th>condition</th>\n",
       "      <th>strain_ID</th>\n",
       "      <th>oscillation</th>\n",
       "      <th>sample_ID</th>\n",
       "      <th>experiment_run</th>\n",
       "      <th>strain_name</th>\n",
       "      <th>reference_condition</th>\n",
       "      <th>Unnamed: 17</th>\n",
       "      <th>skip</th>\n",
       "    </tr>\n",
       "  </thead>\n",
       "  <tbody>\n",
       "    <tr>\n",
       "      <th>PD_131_R10_S1_1</th>\n",
       "      <td>PAIRED</td>\n",
       "      <td>DNBSEQ</td>\n",
       "      <td>NaN</td>\n",
       "      <td>PD_131_R10_S1_1.fq.gz</td>\n",
       "      <td>PD_131_R10_S1_2.fq.gz</td>\n",
       "      <td>True</td>\n",
       "      <td>True</td>\n",
       "      <td>True</td>\n",
       "      <td>DDB_SD_2</td>\n",
       "      <td>WT_fed-batch_S_oscillation_feast</td>\n",
       "      <td>DDB35</td>\n",
       "      <td>S</td>\n",
       "      <td>S1</td>\n",
       "      <td>DDB_PD_131_AMBR</td>\n",
       "      <td>WT</td>\n",
       "      <td>WT_fed-batch_control</td>\n",
       "      <td>NaN</td>\n",
       "      <td>NaN</td>\n",
       "    </tr>\n",
       "    <tr>\n",
       "      <th>PD_131_R10_S2_1</th>\n",
       "      <td>PAIRED</td>\n",
       "      <td>DNBSEQ</td>\n",
       "      <td>NaN</td>\n",
       "      <td>PD_131_R10_S2_1.fq.gz</td>\n",
       "      <td>PD_131_R10_S2_2.fq.gz</td>\n",
       "      <td>True</td>\n",
       "      <td>True</td>\n",
       "      <td>True</td>\n",
       "      <td>DDB_SD_2</td>\n",
       "      <td>WT_fed-batch_S_oscillation_famine</td>\n",
       "      <td>DDB35</td>\n",
       "      <td>S</td>\n",
       "      <td>S2</td>\n",
       "      <td>DDB_PD_131_AMBR</td>\n",
       "      <td>WT</td>\n",
       "      <td>WT_fed-batch_control</td>\n",
       "      <td>NaN</td>\n",
       "      <td>NaN</td>\n",
       "    </tr>\n",
       "    <tr>\n",
       "      <th>PD_131_R11_S1_1</th>\n",
       "      <td>PAIRED</td>\n",
       "      <td>DNBSEQ</td>\n",
       "      <td>NaN</td>\n",
       "      <td>PD_131_R11_S1_1.fq.gz</td>\n",
       "      <td>PD_131_R11_S1_2.fq.gz</td>\n",
       "      <td>True</td>\n",
       "      <td>True</td>\n",
       "      <td>True</td>\n",
       "      <td>DDB_SD_2</td>\n",
       "      <td>WT_fed-batch_O_oscillation_limitation</td>\n",
       "      <td>DDB35</td>\n",
       "      <td>O</td>\n",
       "      <td>S1</td>\n",
       "      <td>DDB_PD_131_AMBR</td>\n",
       "      <td>WT</td>\n",
       "      <td>WT_fed-batch_control</td>\n",
       "      <td>NaN</td>\n",
       "      <td>NaN</td>\n",
       "    </tr>\n",
       "    <tr>\n",
       "      <th>PD_131_R11_S2_1</th>\n",
       "      <td>PAIRED</td>\n",
       "      <td>DNBSEQ</td>\n",
       "      <td>NaN</td>\n",
       "      <td>PD_131_R11_S2_1.fq.gz</td>\n",
       "      <td>PD_131_R11_S2_2.fq.gz</td>\n",
       "      <td>True</td>\n",
       "      <td>True</td>\n",
       "      <td>True</td>\n",
       "      <td>DDB_SD_2</td>\n",
       "      <td>WT_fed-batch_O_oscillation_excess</td>\n",
       "      <td>DDB35</td>\n",
       "      <td>O</td>\n",
       "      <td>S2</td>\n",
       "      <td>DDB_PD_131_AMBR</td>\n",
       "      <td>WT</td>\n",
       "      <td>WT_fed-batch_control</td>\n",
       "      <td>NaN</td>\n",
       "      <td>NaN</td>\n",
       "    </tr>\n",
       "    <tr>\n",
       "      <th>PD_131_R12_S1_1</th>\n",
       "      <td>PAIRED</td>\n",
       "      <td>DNBSEQ</td>\n",
       "      <td>NaN</td>\n",
       "      <td>PD_131_R12_S1_1.fq.gz</td>\n",
       "      <td>PD_131_R12_S1_2.fq.gz</td>\n",
       "      <td>True</td>\n",
       "      <td>True</td>\n",
       "      <td>True</td>\n",
       "      <td>DDB_SD_2</td>\n",
       "      <td>WT_fed-batch_O_oscillation_limitation</td>\n",
       "      <td>DDB35</td>\n",
       "      <td>O</td>\n",
       "      <td>S1</td>\n",
       "      <td>DDB_PD_131_AMBR</td>\n",
       "      <td>WT</td>\n",
       "      <td>WT_fed-batch_control</td>\n",
       "      <td>NaN</td>\n",
       "      <td>NaN</td>\n",
       "    </tr>\n",
       "  </tbody>\n",
       "</table>\n",
       "</div>"
      ],
      "text/plain": [
       "                LibraryLayout Platform  Run                     R1  \\\n",
       "PD_131_R10_S1_1        PAIRED   DNBSEQ  NaN  PD_131_R10_S1_1.fq.gz   \n",
       "PD_131_R10_S2_1        PAIRED   DNBSEQ  NaN  PD_131_R10_S2_1.fq.gz   \n",
       "PD_131_R11_S1_1        PAIRED   DNBSEQ  NaN  PD_131_R11_S1_1.fq.gz   \n",
       "PD_131_R11_S2_1        PAIRED   DNBSEQ  NaN  PD_131_R11_S2_1.fq.gz   \n",
       "PD_131_R12_S1_1        PAIRED   DNBSEQ  NaN  PD_131_R12_S1_1.fq.gz   \n",
       "\n",
       "                                    R2  passed_fastqc  \\\n",
       "PD_131_R10_S1_1  PD_131_R10_S1_2.fq.gz           True   \n",
       "PD_131_R10_S2_1  PD_131_R10_S2_2.fq.gz           True   \n",
       "PD_131_R11_S1_1  PD_131_R11_S1_2.fq.gz           True   \n",
       "PD_131_R11_S2_1  PD_131_R11_S2_2.fq.gz           True   \n",
       "PD_131_R12_S1_1  PD_131_R12_S1_2.fq.gz           True   \n",
       "\n",
       "                 passed_reads_mapped_to_CDS  passed_global_correlation  \\\n",
       "PD_131_R10_S1_1                        True                       True   \n",
       "PD_131_R10_S2_1                        True                       True   \n",
       "PD_131_R11_S1_1                        True                       True   \n",
       "PD_131_R11_S2_1                        True                       True   \n",
       "PD_131_R12_S1_1                        True                       True   \n",
       "\n",
       "                  project                              condition strain_ID  \\\n",
       "PD_131_R10_S1_1  DDB_SD_2       WT_fed-batch_S_oscillation_feast     DDB35   \n",
       "PD_131_R10_S2_1  DDB_SD_2      WT_fed-batch_S_oscillation_famine     DDB35   \n",
       "PD_131_R11_S1_1  DDB_SD_2  WT_fed-batch_O_oscillation_limitation     DDB35   \n",
       "PD_131_R11_S2_1  DDB_SD_2      WT_fed-batch_O_oscillation_excess     DDB35   \n",
       "PD_131_R12_S1_1  DDB_SD_2  WT_fed-batch_O_oscillation_limitation     DDB35   \n",
       "\n",
       "                oscillation sample_ID   experiment_run strain_name  \\\n",
       "PD_131_R10_S1_1           S        S1  DDB_PD_131_AMBR          WT   \n",
       "PD_131_R10_S2_1           S        S2  DDB_PD_131_AMBR          WT   \n",
       "PD_131_R11_S1_1           O        S1  DDB_PD_131_AMBR          WT   \n",
       "PD_131_R11_S2_1           O        S2  DDB_PD_131_AMBR          WT   \n",
       "PD_131_R12_S1_1           O        S1  DDB_PD_131_AMBR          WT   \n",
       "\n",
       "                  reference_condition  Unnamed: 17  skip  \n",
       "PD_131_R10_S1_1  WT_fed-batch_control          NaN   NaN  \n",
       "PD_131_R10_S2_1  WT_fed-batch_control          NaN   NaN  \n",
       "PD_131_R11_S1_1  WT_fed-batch_control          NaN   NaN  \n",
       "PD_131_R11_S2_1  WT_fed-batch_control          NaN   NaN  \n",
       "PD_131_R12_S1_1  WT_fed-batch_control          NaN   NaN  "
      ]
     },
     "execution_count": 13,
     "metadata": {},
     "output_type": "execute_result"
    }
   ],
   "source": [
    "DF_metadata = pd.read_csv(metadata_file,index_col=0,sep='\\t')\n",
    "print('Number of samples with curated metadata:',DF_metadata.shape[0])\n",
    "DF_metadata.head()"
   ]
  },
  {
   "cell_type": "code",
   "execution_count": 14,
   "metadata": {
    "tags": []
   },
   "outputs": [],
   "source": [
    "DF_metadata_all = pd.read_csv(all_metadata_file,index_col=0,sep='\\t')"
   ]
  },
  {
   "cell_type": "markdown",
   "metadata": {},
   "source": [
    "## Remove samples due to poor metadata"
   ]
  },
  {
   "cell_type": "markdown",
   "metadata": {},
   "source": [
    "After curation, some samples either did not have enough replicates or metadata to warrant inclusion in this database."
   ]
  },
  {
   "cell_type": "code",
   "execution_count": 15,
   "metadata": {
    "tags": []
   },
   "outputs": [
    {
     "name": "stdout",
     "output_type": "stream",
     "text": [
      "New number of samples with curated metadata: 18\n"
     ]
    },
    {
     "data": {
      "text/html": [
       "<div>\n",
       "<style scoped>\n",
       "    .dataframe tbody tr th:only-of-type {\n",
       "        vertical-align: middle;\n",
       "    }\n",
       "\n",
       "    .dataframe tbody tr th {\n",
       "        vertical-align: top;\n",
       "    }\n",
       "\n",
       "    .dataframe thead th {\n",
       "        text-align: right;\n",
       "    }\n",
       "</style>\n",
       "<table border=\"1\" class=\"dataframe\">\n",
       "  <thead>\n",
       "    <tr style=\"text-align: right;\">\n",
       "      <th></th>\n",
       "      <th>LibraryLayout</th>\n",
       "      <th>Platform</th>\n",
       "      <th>Run</th>\n",
       "      <th>R1</th>\n",
       "      <th>R2</th>\n",
       "      <th>passed_fastqc</th>\n",
       "      <th>passed_reads_mapped_to_CDS</th>\n",
       "      <th>passed_global_correlation</th>\n",
       "      <th>project</th>\n",
       "      <th>condition</th>\n",
       "      <th>strain_ID</th>\n",
       "      <th>oscillation</th>\n",
       "      <th>sample_ID</th>\n",
       "      <th>experiment_run</th>\n",
       "      <th>strain_name</th>\n",
       "      <th>reference_condition</th>\n",
       "      <th>Unnamed: 17</th>\n",
       "      <th>skip</th>\n",
       "    </tr>\n",
       "  </thead>\n",
       "  <tbody>\n",
       "    <tr>\n",
       "      <th>PD_131_R10_S1_1</th>\n",
       "      <td>PAIRED</td>\n",
       "      <td>DNBSEQ</td>\n",
       "      <td>NaN</td>\n",
       "      <td>PD_131_R10_S1_1.fq.gz</td>\n",
       "      <td>PD_131_R10_S1_2.fq.gz</td>\n",
       "      <td>True</td>\n",
       "      <td>True</td>\n",
       "      <td>True</td>\n",
       "      <td>DDB_SD_2</td>\n",
       "      <td>WT_fed-batch_S_oscillation_feast</td>\n",
       "      <td>DDB35</td>\n",
       "      <td>S</td>\n",
       "      <td>S1</td>\n",
       "      <td>DDB_PD_131_AMBR</td>\n",
       "      <td>WT</td>\n",
       "      <td>WT_fed-batch_control</td>\n",
       "      <td>NaN</td>\n",
       "      <td>NaN</td>\n",
       "    </tr>\n",
       "    <tr>\n",
       "      <th>PD_131_R10_S2_1</th>\n",
       "      <td>PAIRED</td>\n",
       "      <td>DNBSEQ</td>\n",
       "      <td>NaN</td>\n",
       "      <td>PD_131_R10_S2_1.fq.gz</td>\n",
       "      <td>PD_131_R10_S2_2.fq.gz</td>\n",
       "      <td>True</td>\n",
       "      <td>True</td>\n",
       "      <td>True</td>\n",
       "      <td>DDB_SD_2</td>\n",
       "      <td>WT_fed-batch_S_oscillation_famine</td>\n",
       "      <td>DDB35</td>\n",
       "      <td>S</td>\n",
       "      <td>S2</td>\n",
       "      <td>DDB_PD_131_AMBR</td>\n",
       "      <td>WT</td>\n",
       "      <td>WT_fed-batch_control</td>\n",
       "      <td>NaN</td>\n",
       "      <td>NaN</td>\n",
       "    </tr>\n",
       "    <tr>\n",
       "      <th>PD_131_R11_S1_1</th>\n",
       "      <td>PAIRED</td>\n",
       "      <td>DNBSEQ</td>\n",
       "      <td>NaN</td>\n",
       "      <td>PD_131_R11_S1_1.fq.gz</td>\n",
       "      <td>PD_131_R11_S1_2.fq.gz</td>\n",
       "      <td>True</td>\n",
       "      <td>True</td>\n",
       "      <td>True</td>\n",
       "      <td>DDB_SD_2</td>\n",
       "      <td>WT_fed-batch_O_oscillation_limitation</td>\n",
       "      <td>DDB35</td>\n",
       "      <td>O</td>\n",
       "      <td>S1</td>\n",
       "      <td>DDB_PD_131_AMBR</td>\n",
       "      <td>WT</td>\n",
       "      <td>WT_fed-batch_control</td>\n",
       "      <td>NaN</td>\n",
       "      <td>NaN</td>\n",
       "    </tr>\n",
       "    <tr>\n",
       "      <th>PD_131_R11_S2_1</th>\n",
       "      <td>PAIRED</td>\n",
       "      <td>DNBSEQ</td>\n",
       "      <td>NaN</td>\n",
       "      <td>PD_131_R11_S2_1.fq.gz</td>\n",
       "      <td>PD_131_R11_S2_2.fq.gz</td>\n",
       "      <td>True</td>\n",
       "      <td>True</td>\n",
       "      <td>True</td>\n",
       "      <td>DDB_SD_2</td>\n",
       "      <td>WT_fed-batch_O_oscillation_excess</td>\n",
       "      <td>DDB35</td>\n",
       "      <td>O</td>\n",
       "      <td>S2</td>\n",
       "      <td>DDB_PD_131_AMBR</td>\n",
       "      <td>WT</td>\n",
       "      <td>WT_fed-batch_control</td>\n",
       "      <td>NaN</td>\n",
       "      <td>NaN</td>\n",
       "    </tr>\n",
       "    <tr>\n",
       "      <th>PD_131_R12_S1_1</th>\n",
       "      <td>PAIRED</td>\n",
       "      <td>DNBSEQ</td>\n",
       "      <td>NaN</td>\n",
       "      <td>PD_131_R12_S1_1.fq.gz</td>\n",
       "      <td>PD_131_R12_S1_2.fq.gz</td>\n",
       "      <td>True</td>\n",
       "      <td>True</td>\n",
       "      <td>True</td>\n",
       "      <td>DDB_SD_2</td>\n",
       "      <td>WT_fed-batch_O_oscillation_limitation</td>\n",
       "      <td>DDB35</td>\n",
       "      <td>O</td>\n",
       "      <td>S1</td>\n",
       "      <td>DDB_PD_131_AMBR</td>\n",
       "      <td>WT</td>\n",
       "      <td>WT_fed-batch_control</td>\n",
       "      <td>NaN</td>\n",
       "      <td>NaN</td>\n",
       "    </tr>\n",
       "  </tbody>\n",
       "</table>\n",
       "</div>"
      ],
      "text/plain": [
       "                LibraryLayout Platform  Run                     R1  \\\n",
       "PD_131_R10_S1_1        PAIRED   DNBSEQ  NaN  PD_131_R10_S1_1.fq.gz   \n",
       "PD_131_R10_S2_1        PAIRED   DNBSEQ  NaN  PD_131_R10_S2_1.fq.gz   \n",
       "PD_131_R11_S1_1        PAIRED   DNBSEQ  NaN  PD_131_R11_S1_1.fq.gz   \n",
       "PD_131_R11_S2_1        PAIRED   DNBSEQ  NaN  PD_131_R11_S2_1.fq.gz   \n",
       "PD_131_R12_S1_1        PAIRED   DNBSEQ  NaN  PD_131_R12_S1_1.fq.gz   \n",
       "\n",
       "                                    R2  passed_fastqc  \\\n",
       "PD_131_R10_S1_1  PD_131_R10_S1_2.fq.gz           True   \n",
       "PD_131_R10_S2_1  PD_131_R10_S2_2.fq.gz           True   \n",
       "PD_131_R11_S1_1  PD_131_R11_S1_2.fq.gz           True   \n",
       "PD_131_R11_S2_1  PD_131_R11_S2_2.fq.gz           True   \n",
       "PD_131_R12_S1_1  PD_131_R12_S1_2.fq.gz           True   \n",
       "\n",
       "                 passed_reads_mapped_to_CDS  passed_global_correlation  \\\n",
       "PD_131_R10_S1_1                        True                       True   \n",
       "PD_131_R10_S2_1                        True                       True   \n",
       "PD_131_R11_S1_1                        True                       True   \n",
       "PD_131_R11_S2_1                        True                       True   \n",
       "PD_131_R12_S1_1                        True                       True   \n",
       "\n",
       "                  project                              condition strain_ID  \\\n",
       "PD_131_R10_S1_1  DDB_SD_2       WT_fed-batch_S_oscillation_feast     DDB35   \n",
       "PD_131_R10_S2_1  DDB_SD_2      WT_fed-batch_S_oscillation_famine     DDB35   \n",
       "PD_131_R11_S1_1  DDB_SD_2  WT_fed-batch_O_oscillation_limitation     DDB35   \n",
       "PD_131_R11_S2_1  DDB_SD_2      WT_fed-batch_O_oscillation_excess     DDB35   \n",
       "PD_131_R12_S1_1  DDB_SD_2  WT_fed-batch_O_oscillation_limitation     DDB35   \n",
       "\n",
       "                oscillation sample_ID   experiment_run strain_name  \\\n",
       "PD_131_R10_S1_1           S        S1  DDB_PD_131_AMBR          WT   \n",
       "PD_131_R10_S2_1           S        S2  DDB_PD_131_AMBR          WT   \n",
       "PD_131_R11_S1_1           O        S1  DDB_PD_131_AMBR          WT   \n",
       "PD_131_R11_S2_1           O        S2  DDB_PD_131_AMBR          WT   \n",
       "PD_131_R12_S1_1           O        S1  DDB_PD_131_AMBR          WT   \n",
       "\n",
       "                  reference_condition  Unnamed: 17  skip  \n",
       "PD_131_R10_S1_1  WT_fed-batch_control          NaN   NaN  \n",
       "PD_131_R10_S2_1  WT_fed-batch_control          NaN   NaN  \n",
       "PD_131_R11_S1_1  WT_fed-batch_control          NaN   NaN  \n",
       "PD_131_R11_S2_1  WT_fed-batch_control          NaN   NaN  \n",
       "PD_131_R12_S1_1  WT_fed-batch_control          NaN   NaN  "
      ]
     },
     "execution_count": 15,
     "metadata": {},
     "output_type": "execute_result"
    }
   ],
   "source": [
    "DF_metadata_passed_step4 = DF_metadata[~DF_metadata.skip.fillna(False)].copy()\n",
    "print('New number of samples with curated metadata:',DF_metadata_passed_step4.shape[0])\n",
    "DF_metadata_passed_step4.head()"
   ]
  },
  {
   "cell_type": "markdown",
   "metadata": {},
   "source": [
    "### Check curation\n",
    "Since manual curation is error-prone, we want to make sure that all samples have labels for their project and condition. In addition, there should only be one reference condition in each project, and it should be in the project itself.\n",
    "\n",
    "Any samples that fail these checks will be printed below."
   ]
  },
  {
   "cell_type": "code",
   "execution_count": 16,
   "metadata": {
    "tags": []
   },
   "outputs": [],
   "source": [
    "assert(DF_metadata_passed_step4.project.notnull().all())\n",
    "assert(DF_metadata_passed_step4.condition.notnull().all())\n",
    "\n",
    "for name,group in DF_metadata_passed_step4.groupby('project'):\n",
    "    ref_cond = group.reference_condition.unique()\n",
    "    \n",
    "    # Ensure that there is only one reference condition per project\n",
    "    if not len(ref_cond) == 1:\n",
    "        print('Multiple reference conditions for:, name')\n",
    "    \n",
    "    # Ensure the reference condition is in fact in the project\n",
    "    ref_cond = ref_cond[0]\n",
    "    if not ref_cond in group.condition.tolist():\n",
    "        print('Reference condition not in project:', name)"
   ]
  },
  {
   "cell_type": "markdown",
   "metadata": {},
   "source": [
    "Next, make a new column called ``full_name`` that gives every experimental condition a unique, human-readable identifier."
   ]
  },
  {
   "cell_type": "code",
   "execution_count": 17,
   "metadata": {
    "tags": []
   },
   "outputs": [],
   "source": [
    "DF_metadata_passed_step4['full_name'] = DF_metadata_passed_step4['project'].str.cat(DF_metadata_passed_step4['condition'],sep=':')"
   ]
  },
  {
   "cell_type": "markdown",
   "metadata": {},
   "source": [
    "### Remove samples with only one replicate"
   ]
  },
  {
   "cell_type": "markdown",
   "metadata": {},
   "source": [
    "First, find sample names that have at least two replicates."
   ]
  },
  {
   "cell_type": "code",
   "execution_count": 19,
   "metadata": {
    "tags": []
   },
   "outputs": [
    {
     "name": "stdout",
     "output_type": "stream",
     "text": [
      "Index(['DDB_SD_2:WT_fed-batch_S_oscillation_feast',\n",
      "       'DDB_SD_2:WT_fed-batch_S_oscillation_famine',\n",
      "       'DDB_SD_2:WT_fed-batch_O_oscillation_limitation',\n",
      "       'DDB_SD_2:WT_fed-batch_O_oscillation_excess',\n",
      "       'DDB_SD_2:WT_fed-batch_S_O_oscillation_combined'],\n",
      "      dtype='object')\n"
     ]
    }
   ],
   "source": [
    "counts = DF_metadata_passed_step4.full_name.value_counts()\n",
    "keep_samples = counts[counts >= 2].index\n",
    "print(keep_samples[:5])"
   ]
  },
  {
   "cell_type": "code",
   "execution_count": 20,
   "metadata": {
    "tags": []
   },
   "outputs": [
    {
     "data": {
      "text/plain": [
       "Index(['DDB_SD_2:WT_fed-batch_S_oscillation_feast',\n",
       "       'DDB_SD_2:WT_fed-batch_S_oscillation_famine',\n",
       "       'DDB_SD_2:WT_fed-batch_O_oscillation_limitation',\n",
       "       'DDB_SD_2:WT_fed-batch_O_oscillation_excess',\n",
       "       'DDB_SD_2:WT_fed-batch_S_O_oscillation_combined',\n",
       "       'DDB_SD_2:WT_fed-batch_control'],\n",
       "      dtype='object')"
      ]
     },
     "execution_count": 20,
     "metadata": {},
     "output_type": "execute_result"
    }
   ],
   "source": [
    "keep_samples"
   ]
  },
  {
   "cell_type": "markdown",
   "metadata": {},
   "source": [
    "Only keep these samples"
   ]
  },
  {
   "cell_type": "code",
   "execution_count": 21,
   "metadata": {
    "tags": []
   },
   "outputs": [
    {
     "name": "stdout",
     "output_type": "stream",
     "text": [
      "New number of samples with curated metadata: 18\n"
     ]
    },
    {
     "data": {
      "text/html": [
       "<div>\n",
       "<style scoped>\n",
       "    .dataframe tbody tr th:only-of-type {\n",
       "        vertical-align: middle;\n",
       "    }\n",
       "\n",
       "    .dataframe tbody tr th {\n",
       "        vertical-align: top;\n",
       "    }\n",
       "\n",
       "    .dataframe thead th {\n",
       "        text-align: right;\n",
       "    }\n",
       "</style>\n",
       "<table border=\"1\" class=\"dataframe\">\n",
       "  <thead>\n",
       "    <tr style=\"text-align: right;\">\n",
       "      <th></th>\n",
       "      <th>LibraryLayout</th>\n",
       "      <th>Platform</th>\n",
       "      <th>Run</th>\n",
       "      <th>R1</th>\n",
       "      <th>R2</th>\n",
       "      <th>passed_fastqc</th>\n",
       "      <th>passed_reads_mapped_to_CDS</th>\n",
       "      <th>passed_global_correlation</th>\n",
       "      <th>project</th>\n",
       "      <th>condition</th>\n",
       "      <th>strain_ID</th>\n",
       "      <th>oscillation</th>\n",
       "      <th>sample_ID</th>\n",
       "      <th>experiment_run</th>\n",
       "      <th>strain_name</th>\n",
       "      <th>reference_condition</th>\n",
       "      <th>Unnamed: 17</th>\n",
       "      <th>skip</th>\n",
       "      <th>full_name</th>\n",
       "    </tr>\n",
       "  </thead>\n",
       "  <tbody>\n",
       "    <tr>\n",
       "      <th>PD_131_R10_S1_1</th>\n",
       "      <td>PAIRED</td>\n",
       "      <td>DNBSEQ</td>\n",
       "      <td>NaN</td>\n",
       "      <td>PD_131_R10_S1_1.fq.gz</td>\n",
       "      <td>PD_131_R10_S1_2.fq.gz</td>\n",
       "      <td>True</td>\n",
       "      <td>True</td>\n",
       "      <td>True</td>\n",
       "      <td>DDB_SD_2</td>\n",
       "      <td>WT_fed-batch_S_oscillation_feast</td>\n",
       "      <td>DDB35</td>\n",
       "      <td>S</td>\n",
       "      <td>S1</td>\n",
       "      <td>DDB_PD_131_AMBR</td>\n",
       "      <td>WT</td>\n",
       "      <td>WT_fed-batch_control</td>\n",
       "      <td>NaN</td>\n",
       "      <td>NaN</td>\n",
       "      <td>DDB_SD_2:WT_fed-batch_S_oscillation_feast</td>\n",
       "    </tr>\n",
       "    <tr>\n",
       "      <th>PD_131_R10_S2_1</th>\n",
       "      <td>PAIRED</td>\n",
       "      <td>DNBSEQ</td>\n",
       "      <td>NaN</td>\n",
       "      <td>PD_131_R10_S2_1.fq.gz</td>\n",
       "      <td>PD_131_R10_S2_2.fq.gz</td>\n",
       "      <td>True</td>\n",
       "      <td>True</td>\n",
       "      <td>True</td>\n",
       "      <td>DDB_SD_2</td>\n",
       "      <td>WT_fed-batch_S_oscillation_famine</td>\n",
       "      <td>DDB35</td>\n",
       "      <td>S</td>\n",
       "      <td>S2</td>\n",
       "      <td>DDB_PD_131_AMBR</td>\n",
       "      <td>WT</td>\n",
       "      <td>WT_fed-batch_control</td>\n",
       "      <td>NaN</td>\n",
       "      <td>NaN</td>\n",
       "      <td>DDB_SD_2:WT_fed-batch_S_oscillation_famine</td>\n",
       "    </tr>\n",
       "    <tr>\n",
       "      <th>PD_131_R11_S1_1</th>\n",
       "      <td>PAIRED</td>\n",
       "      <td>DNBSEQ</td>\n",
       "      <td>NaN</td>\n",
       "      <td>PD_131_R11_S1_1.fq.gz</td>\n",
       "      <td>PD_131_R11_S1_2.fq.gz</td>\n",
       "      <td>True</td>\n",
       "      <td>True</td>\n",
       "      <td>True</td>\n",
       "      <td>DDB_SD_2</td>\n",
       "      <td>WT_fed-batch_O_oscillation_limitation</td>\n",
       "      <td>DDB35</td>\n",
       "      <td>O</td>\n",
       "      <td>S1</td>\n",
       "      <td>DDB_PD_131_AMBR</td>\n",
       "      <td>WT</td>\n",
       "      <td>WT_fed-batch_control</td>\n",
       "      <td>NaN</td>\n",
       "      <td>NaN</td>\n",
       "      <td>DDB_SD_2:WT_fed-batch_O_oscillation_limitation</td>\n",
       "    </tr>\n",
       "    <tr>\n",
       "      <th>PD_131_R11_S2_1</th>\n",
       "      <td>PAIRED</td>\n",
       "      <td>DNBSEQ</td>\n",
       "      <td>NaN</td>\n",
       "      <td>PD_131_R11_S2_1.fq.gz</td>\n",
       "      <td>PD_131_R11_S2_2.fq.gz</td>\n",
       "      <td>True</td>\n",
       "      <td>True</td>\n",
       "      <td>True</td>\n",
       "      <td>DDB_SD_2</td>\n",
       "      <td>WT_fed-batch_O_oscillation_excess</td>\n",
       "      <td>DDB35</td>\n",
       "      <td>O</td>\n",
       "      <td>S2</td>\n",
       "      <td>DDB_PD_131_AMBR</td>\n",
       "      <td>WT</td>\n",
       "      <td>WT_fed-batch_control</td>\n",
       "      <td>NaN</td>\n",
       "      <td>NaN</td>\n",
       "      <td>DDB_SD_2:WT_fed-batch_O_oscillation_excess</td>\n",
       "    </tr>\n",
       "    <tr>\n",
       "      <th>PD_131_R12_S1_1</th>\n",
       "      <td>PAIRED</td>\n",
       "      <td>DNBSEQ</td>\n",
       "      <td>NaN</td>\n",
       "      <td>PD_131_R12_S1_1.fq.gz</td>\n",
       "      <td>PD_131_R12_S1_2.fq.gz</td>\n",
       "      <td>True</td>\n",
       "      <td>True</td>\n",
       "      <td>True</td>\n",
       "      <td>DDB_SD_2</td>\n",
       "      <td>WT_fed-batch_O_oscillation_limitation</td>\n",
       "      <td>DDB35</td>\n",
       "      <td>O</td>\n",
       "      <td>S1</td>\n",
       "      <td>DDB_PD_131_AMBR</td>\n",
       "      <td>WT</td>\n",
       "      <td>WT_fed-batch_control</td>\n",
       "      <td>NaN</td>\n",
       "      <td>NaN</td>\n",
       "      <td>DDB_SD_2:WT_fed-batch_O_oscillation_limitation</td>\n",
       "    </tr>\n",
       "  </tbody>\n",
       "</table>\n",
       "</div>"
      ],
      "text/plain": [
       "                LibraryLayout Platform  Run                     R1  \\\n",
       "PD_131_R10_S1_1        PAIRED   DNBSEQ  NaN  PD_131_R10_S1_1.fq.gz   \n",
       "PD_131_R10_S2_1        PAIRED   DNBSEQ  NaN  PD_131_R10_S2_1.fq.gz   \n",
       "PD_131_R11_S1_1        PAIRED   DNBSEQ  NaN  PD_131_R11_S1_1.fq.gz   \n",
       "PD_131_R11_S2_1        PAIRED   DNBSEQ  NaN  PD_131_R11_S2_1.fq.gz   \n",
       "PD_131_R12_S1_1        PAIRED   DNBSEQ  NaN  PD_131_R12_S1_1.fq.gz   \n",
       "\n",
       "                                    R2  passed_fastqc  \\\n",
       "PD_131_R10_S1_1  PD_131_R10_S1_2.fq.gz           True   \n",
       "PD_131_R10_S2_1  PD_131_R10_S2_2.fq.gz           True   \n",
       "PD_131_R11_S1_1  PD_131_R11_S1_2.fq.gz           True   \n",
       "PD_131_R11_S2_1  PD_131_R11_S2_2.fq.gz           True   \n",
       "PD_131_R12_S1_1  PD_131_R12_S1_2.fq.gz           True   \n",
       "\n",
       "                 passed_reads_mapped_to_CDS  passed_global_correlation  \\\n",
       "PD_131_R10_S1_1                        True                       True   \n",
       "PD_131_R10_S2_1                        True                       True   \n",
       "PD_131_R11_S1_1                        True                       True   \n",
       "PD_131_R11_S2_1                        True                       True   \n",
       "PD_131_R12_S1_1                        True                       True   \n",
       "\n",
       "                  project                              condition strain_ID  \\\n",
       "PD_131_R10_S1_1  DDB_SD_2       WT_fed-batch_S_oscillation_feast     DDB35   \n",
       "PD_131_R10_S2_1  DDB_SD_2      WT_fed-batch_S_oscillation_famine     DDB35   \n",
       "PD_131_R11_S1_1  DDB_SD_2  WT_fed-batch_O_oscillation_limitation     DDB35   \n",
       "PD_131_R11_S2_1  DDB_SD_2      WT_fed-batch_O_oscillation_excess     DDB35   \n",
       "PD_131_R12_S1_1  DDB_SD_2  WT_fed-batch_O_oscillation_limitation     DDB35   \n",
       "\n",
       "                oscillation sample_ID   experiment_run strain_name  \\\n",
       "PD_131_R10_S1_1           S        S1  DDB_PD_131_AMBR          WT   \n",
       "PD_131_R10_S2_1           S        S2  DDB_PD_131_AMBR          WT   \n",
       "PD_131_R11_S1_1           O        S1  DDB_PD_131_AMBR          WT   \n",
       "PD_131_R11_S2_1           O        S2  DDB_PD_131_AMBR          WT   \n",
       "PD_131_R12_S1_1           O        S1  DDB_PD_131_AMBR          WT   \n",
       "\n",
       "                  reference_condition  Unnamed: 17  skip  \\\n",
       "PD_131_R10_S1_1  WT_fed-batch_control          NaN   NaN   \n",
       "PD_131_R10_S2_1  WT_fed-batch_control          NaN   NaN   \n",
       "PD_131_R11_S1_1  WT_fed-batch_control          NaN   NaN   \n",
       "PD_131_R11_S2_1  WT_fed-batch_control          NaN   NaN   \n",
       "PD_131_R12_S1_1  WT_fed-batch_control          NaN   NaN   \n",
       "\n",
       "                                                      full_name  \n",
       "PD_131_R10_S1_1       DDB_SD_2:WT_fed-batch_S_oscillation_feast  \n",
       "PD_131_R10_S2_1      DDB_SD_2:WT_fed-batch_S_oscillation_famine  \n",
       "PD_131_R11_S1_1  DDB_SD_2:WT_fed-batch_O_oscillation_limitation  \n",
       "PD_131_R11_S2_1      DDB_SD_2:WT_fed-batch_O_oscillation_excess  \n",
       "PD_131_R12_S1_1  DDB_SD_2:WT_fed-batch_O_oscillation_limitation  "
      ]
     },
     "execution_count": 21,
     "metadata": {},
     "output_type": "execute_result"
    }
   ],
   "source": [
    "DF_metadata_passed_step4 = DF_metadata_passed_step4[DF_metadata_passed_step4.full_name.isin(keep_samples)]\n",
    "print('New number of samples with curated metadata:',DF_metadata_passed_step4.shape[0])\n",
    "DF_metadata_passed_step4.head()"
   ]
  },
  {
   "cell_type": "markdown",
   "metadata": {},
   "source": [
    "### Save this information to the full metadata dataframe"
   ]
  },
  {
   "cell_type": "code",
   "execution_count": 22,
   "metadata": {
    "tags": []
   },
   "outputs": [],
   "source": [
    "DF_metadata_all['passed_curation'] = DF_metadata_all.index.isin(DF_metadata_passed_step4.index)"
   ]
  },
  {
   "cell_type": "markdown",
   "metadata": {},
   "source": [
    "## Check correlations between replicates"
   ]
  },
  {
   "cell_type": "markdown",
   "metadata": {},
   "source": [
    "### Remove failed data from log_tpm files"
   ]
  },
  {
   "cell_type": "code",
   "execution_count": 23,
   "metadata": {
    "tags": []
   },
   "outputs": [],
   "source": [
    "DF_log_tpm = DF_log_tpm[DF_metadata_passed_step4.index]"
   ]
  },
  {
   "cell_type": "markdown",
   "metadata": {},
   "source": [
    "### Compute Pearson R Score"
   ]
  },
  {
   "cell_type": "markdown",
   "metadata": {},
   "source": [
    "Biological replicates should have a Pearson R correlation above 0.95. For samples with more than 2 replicates, the replicates must have R >= 0.95 with at least one other replicate or it will be dropped. The correlation threshold can be changed below:"
   ]
  },
  {
   "cell_type": "code",
   "execution_count": 24,
   "metadata": {
    "tags": []
   },
   "outputs": [],
   "source": [
    "rcutoff = 0.95"
   ]
  },
  {
   "cell_type": "markdown",
   "metadata": {},
   "source": [
    "The following code computes correlations between all samples and collects correlations between replicates and non-replicates."
   ]
  },
  {
   "cell_type": "code",
   "execution_count": 25,
   "metadata": {
    "tags": []
   },
   "outputs": [
    {
     "data": {
      "application/vnd.jupyter.widget-view+json": {
       "model_id": "208757a83f2c4ea986b1368fc72336e1",
       "version_major": 2,
       "version_minor": 0
      },
      "text/plain": [
       "  0%|          | 0/153.0 [00:00<?, ?it/s]"
      ]
     },
     "metadata": {},
     "output_type": "display_data"
    }
   ],
   "source": [
    "rep_corrs = {}\n",
    "rand_corrs = {}\n",
    "\n",
    "num_comparisons = len(DF_metadata_passed_step4)*(len(DF_metadata_passed_step4)-1)/2\n",
    "\n",
    "for exp1,exp2 in tqdm(itertools.combinations(DF_metadata_passed_step4.index,2),total=num_comparisons):\n",
    "    if DF_metadata_passed_step4.loc[exp1,'full_name'] == DF_metadata_passed_step4.loc[exp2,'full_name']:\n",
    "        rep_corrs[(exp1,exp2)] = stats.pearsonr(DF_log_tpm[exp1],DF_log_tpm[exp2])[0]\n",
    "    else:\n",
    "        rand_corrs[(exp1,exp2)] = stats.pearsonr(DF_log_tpm[exp1],DF_log_tpm[exp2])[0]"
   ]
  },
  {
   "cell_type": "markdown",
   "metadata": {},
   "source": [
    "Correlations can be plotted on a histogram"
   ]
  },
  {
   "cell_type": "code",
   "execution_count": 26,
   "metadata": {
    "tags": []
   },
   "outputs": [
    {
     "name": "stdout",
     "output_type": "stream",
     "text": [
      "Median Pearson R between replicates: 0.99\n"
     ]
    },
    {
     "data": {
      "image/png": "[encoded data removed]",
      "text/plain": [
       "<Figure size 500x500 with 2 Axes>"
      ]
     },
     "metadata": {},
     "output_type": "display_data"
    }
   ],
   "source": [
    "fig,ax = plt.subplots(figsize=(5,5))\n",
    "ax2 = ax.twinx()\n",
    "ax2.hist(rep_corrs.values(),bins=50,range=(0.2,1),alpha=0.8,color='green',linewidth=0)\n",
    "ax.hist(rand_corrs.values(),bins=50,range=(0.2,1),alpha=0.8,color='blue',linewidth=0)\n",
    "ax.set_title('Pearson R correlation between experiments',fontsize=14)\n",
    "ax.set_xlabel('Pearson R correlation',fontsize=14)\n",
    "ax.set_ylabel('Different Conditions',fontsize=14)\n",
    "ax2.set_ylabel('Known Replicates',fontsize=14)\n",
    "\n",
    "med_corr = np.median([v for k,v in rep_corrs.items()])\n",
    "print('Median Pearson R between replicates: {:.2f}'.format(med_corr))"
   ]
  },
  {
   "cell_type": "markdown",
   "metadata": {},
   "source": [
    "Remove samples without any high-correlation replicates"
   ]
  },
  {
   "cell_type": "code",
   "execution_count": 27,
   "metadata": {
    "tags": []
   },
   "outputs": [],
   "source": [
    "dissimilar = []\n",
    "for idx, grp in DF_metadata_passed_step4.groupby('full_name'):\n",
    "    ident = np.identity(len(grp))\n",
    "    corrs = (DF_log_tpm[grp.index].corr() - ident).max()\n",
    "    dissimilar.extend(corrs[corrs<rcutoff].index)\n",
    "\n",
    "# Save this information in both the original metadata dataframe and the new metadata dataframe\n",
    "DF_metadata_all['passed_replicate_correlations'] = ~DF_metadata_all.index.isin(dissimilar)\n",
    "DF_metadata_passed_step4['passed_replicate_correlations'] = ~DF_metadata_passed_step4.index.isin(dissimilar)"
   ]
  },
  {
   "cell_type": "code",
   "execution_count": 28,
   "metadata": {
    "tags": []
   },
   "outputs": [
    {
     "data": {
      "text/plain": [
       "[]"
      ]
     },
     "execution_count": 28,
     "metadata": {},
     "output_type": "execute_result"
    }
   ],
   "source": [
    "dissimilar"
   ]
  },
  {
   "cell_type": "code",
   "execution_count": 29,
   "metadata": {
    "tags": []
   },
   "outputs": [
    {
     "name": "stdout",
     "output_type": "stream",
     "text": [
      "# Samples that passed replicate correlations: 18\n"
     ]
    }
   ],
   "source": [
    "DF_metadata_final = DF_metadata_passed_step4[DF_metadata_passed_step4['passed_replicate_correlations']]\n",
    "print('# Samples that passed replicate correlations:',len(DF_metadata_final))"
   ]
  },
  {
   "cell_type": "markdown",
   "metadata": {},
   "source": [
    "## Check that reference conditions still exist\n",
    "If a reference condition was removed due to poor replicate correlations, a new reference condition needs to be defined.\n",
    "\n",
    "Again, any samples that fail these checks will be printed below."
   ]
  },
  {
   "cell_type": "code",
   "execution_count": 30,
   "metadata": {
    "tags": []
   },
   "outputs": [],
   "source": [
    "project_exprs = []\n",
    "for name,group in DF_metadata_final.groupby('project'):\n",
    "    \n",
    "    # Get reference condition\n",
    "    ref_cond = group.reference_condition.iloc[0]\n",
    "    \n",
    "    # Ensure the reference condition is still in the project\n",
    "    if ref_cond not in group.condition.tolist():\n",
    "        print('Reference condition missing from:', name)\n",
    "    \n",
    "    # Check that each project has at least two conditions (a reference and at least one test condition)\n",
    "    if len(group.condition.unique()) <= 1:\n",
    "        print('Only one condition in:', name)"
   ]
  },
  {
   "cell_type": "markdown",
   "metadata": {},
   "source": [
    "If necessary, choose a new condition for failed projects and re-run notebook."
   ]
  },
  {
   "cell_type": "markdown",
   "metadata": {},
   "source": [
    "## Normalize dataset to reference conditions"
   ]
  },
  {
   "cell_type": "code",
   "execution_count": 33,
   "metadata": {
    "tags": []
   },
   "outputs": [],
   "source": [
    "DF_log_tpm_final = DF_log_tpm[DF_metadata_final.index]"
   ]
  },
  {
   "cell_type": "code",
   "execution_count": 34,
   "metadata": {
    "tags": []
   },
   "outputs": [],
   "source": [
    "project_exprs = []\n",
    "for name,group in DF_metadata_final.groupby('project'):\n",
    "    \n",
    "    # Get reference condition\n",
    "    ref_cond = group.reference_condition.iloc[0]\n",
    "    \n",
    "    # Get reference condition sample ids\n",
    "    ref_samples = group[group.condition == ref_cond].index\n",
    "    \n",
    "    # Get reference condition expression\n",
    "    ref_expr = DF_log_tpm_final[ref_samples].mean(axis=1)\n",
    "    \n",
    "    # Subtract reference expression from project\n",
    "    project_exprs.append(DF_log_tpm_final[group.index].sub(ref_expr,axis=0))\n",
    "\n",
    "DF_log_tpm_norm = pd.concat(project_exprs,axis=1)"
   ]
  },
  {
   "cell_type": "markdown",
   "metadata": {},
   "source": [
    "## Save final datasets"
   ]
  },
  {
   "cell_type": "code",
   "execution_count": 36,
   "metadata": {
    "tags": []
   },
   "outputs": [],
   "source": [
    "logTPM_qc_file = path.join('..','..','data','processed_RNA-seq_data','log_tpm.csv')\n",
    "logTPM_norm_file = path.join('..','..','data','processed_RNA-seq_data','log_tpm_norm.csv')\n",
    "final_metadata_file = path.join('..','..','data','processed_RNA-seq_data','metadata.tsv')\n",
    "final_metadata_all_file = path.join('qc_data','interim_data','metadata_qc_part2_all.tsv')\n",
    "\n",
    "DF_log_tpm_final.to_csv(logTPM_qc_file)\n",
    "DF_log_tpm_norm.to_csv(logTPM_norm_file)\n",
    "DF_metadata_final.to_csv(final_metadata_file, sep='\\t')\n",
    "DF_metadata_all.to_csv(final_metadata_all_file, sep='\\t')"
   ]
  },
  {
   "cell_type": "code",
   "execution_count": null,
   "metadata": {},
   "outputs": [],
   "source": []
  }
 ],
 "metadata": {
  "kernelspec": {
   "display_name": "Python 3 (ipykernel)",
   "language": "python",
   "name": "python3"
  },
  "language_info": {
   "codemirror_mode": {
    "name": "ipython",
    "version": 3
   },
   "file_extension": ".py",
   "mimetype": "text/x-python",
   "name": "python",
   "nbconvert_exporter": "python",
   "pygments_lexer": "ipython3",
   "version": "3.9.7"
  },
  "toc": {
   "base_numbering": 1,
   "nav_menu": {},
   "number_sections": true,
   "sideBar": true,
   "skip_h1_title": false,
   "title_cell": "Table of Contents",
   "title_sidebar": "Contents",
   "toc_cell": true,
   "toc_position": {},
   "toc_section_display": true,
   "toc_window_display": false
  }
 },
 "nbformat": 4,
 "nbformat_minor": 4
}
