{
 "cells": [
  {
   "cell_type": "code",
   "execution_count": 1,
   "id": "621f1749-4a28-4071-a2aa-0f88fa047a6d",
   "metadata": {
    "tags": []
   },
   "outputs": [],
   "source": [
    "import os\n",
    "import pandas as pd"
   ]
  },
  {
   "cell_type": "code",
   "execution_count": 2,
   "id": "65f60fcf-8eba-40ac-81b4-daf5e5e88e23",
   "metadata": {
    "tags": []
   },
   "outputs": [],
   "source": [
    "# define file name of the export file\n",
    "file_name = \"FeatureCounts.tsv\""
   ]
  },
  {
   "cell_type": "code",
   "execution_count": 3,
   "id": "b07cbe6b-a223-4617-97e5-9817f5dec2a9",
   "metadata": {},
   "outputs": [],
   "source": [
    "DF_Counts_1=pd.DataFrame()\n",
    "\n",
    "os.chdir(\"../../data/AssemblyPipeline_Results/DDB_SD_02_part1/featureCounts/\")\n",
    "\n",
    "for file in os.listdir():\n",
    "    if file.endswith('cds.txt'):\n",
    "        sample=file[:-8]\n",
    "\n",
    "        DF_Counts_1[sample]=None\n",
    "\n",
    "        infile=open(file,'r')\n",
    "\n",
    "        for line in infile:\n",
    "\n",
    "            if line.startswith('b'):\n",
    "                gene=line.split('\\t')[0]\n",
    "\n",
    "                count=line.split('\\t')[-1][:-1]\n",
    "\n",
    "                DF_Counts_1.loc[gene,sample]=count\n",
    "\n",
    "        infile.close()"
   ]
  },
  {
   "cell_type": "code",
   "execution_count": 4,
   "id": "f74ae0b1-872b-43ef-8012-9c56669883c3",
   "metadata": {
    "tags": []
   },
   "outputs": [],
   "source": [
    "DF_Counts_2=pd.DataFrame()\n",
    "\n",
    "os.chdir(\"../../DDB_SD_02_part2/featureCounts/\")\n",
    "\n",
    "for file in os.listdir():\n",
    "    if file.endswith('cds.txt'):\n",
    "        sample=file[:-8]\n",
    "\n",
    "        DF_Counts_2[sample]=None\n",
    "\n",
    "        infile=open(file,'r')\n",
    "\n",
    "        for line in infile:\n",
    "\n",
    "            if line.startswith('b'):\n",
    "                gene=line.split('\\t')[0]\n",
    "\n",
    "                count=line.split('\\t')[-1][:-1]\n",
    "\n",
    "                DF_Counts_2.loc[gene,sample]=count\n",
    "\n",
    "        infile.close()"
   ]
  },
  {
   "cell_type": "code",
   "execution_count": 7,
   "id": "99a1b497-4ba8-4af7-8704-b1d8084c5465",
   "metadata": {
    "tags": []
   },
   "outputs": [],
   "source": [
    "DF_Counts = pd.concat([DF_Counts_1, DF_Counts_2], axis=1)"
   ]
  },
  {
   "cell_type": "code",
   "execution_count": 15,
   "id": "739643af-fbd3-4ce0-a560-cfac5706be7d",
   "metadata": {},
   "outputs": [],
   "source": [
    "# only keep the samples from this study\n",
    "samples = DF_Counts.columns[DF_Counts.columns.str.contains(\"131\")]\n",
    "DF_Counts = DF_Counts[samples]"
   ]
  },
  {
   "cell_type": "code",
   "execution_count": 16,
   "id": "eb96c844-1d85-42da-a944-5aa03660b35e",
   "metadata": {},
   "outputs": [],
   "source": [
    "os.chdir(\"../../../processed_RNA-seq_data/\")\n",
    "\n",
    "DF_Counts.to_csv(file_name,  sep=\"\\t\")"
   ]
  }
 ],
 "metadata": {
  "kernelspec": {
   "display_name": "Python 3 (ipykernel)",
   "language": "python",
   "name": "python3"
  },
  "language_info": {
   "codemirror_mode": {
    "name": "ipython",
    "version": 3
   },
   "file_extension": ".py",
   "mimetype": "text/x-python",
   "name": "python",
   "nbconvert_exporter": "python",
   "pygments_lexer": "ipython3",
   "version": "3.9.7"
  }
 },
 "nbformat": 4,
 "nbformat_minor": 5
}
