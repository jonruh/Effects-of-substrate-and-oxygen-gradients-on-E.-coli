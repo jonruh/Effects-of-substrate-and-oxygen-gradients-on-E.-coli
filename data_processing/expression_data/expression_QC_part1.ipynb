{
 "cells": [
  {
   "cell_type": "markdown",
   "metadata": {},
   "source": [
    "# Expression Quality Control (Part 1)\n",
    "This is a template notebook for performing preliminary quality control on your organism's expression data."
   ]
  },
  {
   "cell_type": "markdown",
   "metadata": {},
   "source": [
    "## Setup"
   ]
  },
  {
   "cell_type": "code",
   "execution_count": 1,
   "metadata": {
    "tags": []
   },
   "outputs": [],
   "source": [
    "import matplotlib.pyplot as plt\n",
    "import numpy as np\n",
    "import pandas as pd\n",
    "import seaborn as sns\n",
    "\n",
    "from os import path"
   ]
  },
  {
   "cell_type": "code",
   "execution_count": 2,
   "metadata": {
    "tags": []
   },
   "outputs": [],
   "source": [
    "sns.set_style('ticks')"
   ]
  },
  {
   "cell_type": "markdown",
   "metadata": {},
   "source": [
    "## Get files from different locations"
   ]
  },
  {
   "cell_type": "markdown",
   "metadata": {},
   "source": [
    "### LogTPM"
   ]
  },
  {
   "cell_type": "code",
   "execution_count": 3,
   "metadata": {},
   "outputs": [],
   "source": [
    "log_tpm_1 = pd.read_csv(\"../../data/AssemblyPipeline_Results/DDB_SD_02_part1/log_tpm_part_1.csv\",index_col=0)\n",
    "log_tpm_2 = pd.read_csv(\"../../data/AssemblyPipeline_Results/DDB_SD_02_part2/log_tpm.csv\",index_col=0)\n",
    "log_tpm = pd.concat([log_tpm_1, log_tpm_2], axis=1)"
   ]
  },
  {
   "cell_type": "code",
   "execution_count": 10,
   "metadata": {},
   "outputs": [],
   "source": [
    "# select only samples from this study\n",
    "experiment_samples = log_tpm.columns[log_tpm.columns.str.contains(\"131\")]\n",
    "log_tpm = log_tpm[experiment_samples]"
   ]
  },
  {
   "cell_type": "code",
   "execution_count": 11,
   "metadata": {},
   "outputs": [],
   "source": [
    "# save top_tpm file to raw_data folder for QC\n",
    "log_tpm.to_csv(\"qc_data/raw_data/log_tpm.csv\")"
   ]
  },
  {
   "cell_type": "markdown",
   "metadata": {},
   "source": [
    "### muli qc"
   ]
  },
  {
   "cell_type": "code",
   "execution_count": 12,
   "metadata": {},
   "outputs": [],
   "source": [
    "multiqc_1 = pd.read_csv(\"../../data/AssemblyPipeline_Results/DDB_SD_02_part1/multiqc_stats.tsv\",index_col=0, sep='\\t')\n",
    "multiqc_2 = pd.read_csv(\"../../data/AssemblyPipeline_Results/DDB_SD_02_part2/multiqc_stats.tsv\",index_col=0, sep='\\t')\n",
    "multiqc = pd.concat([multiqc_1, multiqc_2], axis=0)"
   ]
  },
  {
   "cell_type": "code",
   "execution_count": 16,
   "metadata": {},
   "outputs": [],
   "source": [
    "# select only samples from this study\n",
    "experiment_samples = multiqc.index[multiqc.index.str.contains(\"131\")]\n",
    "multiqc = multiqc.loc[experiment_samples]"
   ]
  },
  {
   "cell_type": "code",
   "execution_count": 18,
   "metadata": {},
   "outputs": [],
   "source": [
    "# save multiqc stats file to raw_data folder for QC\n",
    "multiqc.to_csv(\"qc_data/raw_data/multiqc_stats.tsv\", sep='\\t')"
   ]
  },
  {
   "cell_type": "markdown",
   "metadata": {},
   "source": [
    "### Inputs"
   ]
  },
  {
   "cell_type": "markdown",
   "metadata": {},
   "source": [
    "Enter path of log-TPM, MultiQC, and metadata files here"
   ]
  },
  {
   "cell_type": "code",
   "execution_count": 21,
   "metadata": {
    "tags": []
   },
   "outputs": [],
   "source": [
    "logTPM_file = path.join('qc_data','raw_data','log_tpm.csv') # Enter log-TPM filename here\n",
    "multiqc_file = path.join('qc_data','raw_data','multiqc_stats.tsv') # Enter MultiQC stats filename here\n",
    "metadata_file = path.join('qc_data','raw_data','DDB_SD_2_metadata.tsv') # Enter metadata filename here"
   ]
  },
  {
   "cell_type": "markdown",
   "metadata": {},
   "source": [
    "### Load expression data"
   ]
  },
  {
   "cell_type": "code",
   "execution_count": 22,
   "metadata": {},
   "outputs": [
    {
     "name": "stdout",
     "output_type": "stream",
     "text": [
      "Number of genes: 4355\n",
      "Number of samples: 18\n"
     ]
    },
    {
     "data": {
      "text/html": [
       "<div>\n",
       "<style scoped>\n",
       "    .dataframe tbody tr th:only-of-type {\n",
       "        vertical-align: middle;\n",
       "    }\n",
       "\n",
       "    .dataframe tbody tr th {\n",
       "        vertical-align: top;\n",
       "    }\n",
       "\n",
       "    .dataframe thead th {\n",
       "        text-align: right;\n",
       "    }\n",
       "</style>\n",
       "<table border=\"1\" class=\"dataframe\">\n",
       "  <thead>\n",
       "    <tr style=\"text-align: right;\">\n",
       "      <th></th>\n",
       "      <th>PD_131_R10_S1_1</th>\n",
       "      <th>PD_131_R10_S2_1</th>\n",
       "      <th>PD_131_R11_S1_1</th>\n",
       "      <th>PD_131_R11_S2_1</th>\n",
       "      <th>PD_131_R12_S1_1</th>\n",
       "      <th>PD_131_R12_S2_1</th>\n",
       "      <th>PD_131_R13_S1_1</th>\n",
       "      <th>PD_131_R13_S2_1</th>\n",
       "      <th>PD_131_R14_S1_1</th>\n",
       "      <th>PD_131_R15_S1_1</th>\n",
       "      <th>PD_131_R16_S1_1</th>\n",
       "      <th>PD_131_R5_S1_1</th>\n",
       "      <th>PD_131_R6_S1_1</th>\n",
       "      <th>PD_131_R7_S1_1</th>\n",
       "      <th>PD_131_R8_S1_1</th>\n",
       "      <th>PD_131_R8_S2_1</th>\n",
       "      <th>PD_131_R9_S1_1</th>\n",
       "      <th>PD_131_R9_S2_1</th>\n",
       "    </tr>\n",
       "    <tr>\n",
       "      <th>Geneid</th>\n",
       "      <th></th>\n",
       "      <th></th>\n",
       "      <th></th>\n",
       "      <th></th>\n",
       "      <th></th>\n",
       "      <th></th>\n",
       "      <th></th>\n",
       "      <th></th>\n",
       "      <th></th>\n",
       "      <th></th>\n",
       "      <th></th>\n",
       "      <th></th>\n",
       "      <th></th>\n",
       "      <th></th>\n",
       "      <th></th>\n",
       "      <th></th>\n",
       "      <th></th>\n",
       "      <th></th>\n",
       "    </tr>\n",
       "  </thead>\n",
       "  <tbody>\n",
       "    <tr>\n",
       "      <th>b0001</th>\n",
       "      <td>10.542071</td>\n",
       "      <td>10.524913</td>\n",
       "      <td>6.857832</td>\n",
       "      <td>6.906026</td>\n",
       "      <td>7.443168</td>\n",
       "      <td>6.222593</td>\n",
       "      <td>6.562538</td>\n",
       "      <td>6.132769</td>\n",
       "      <td>8.685035</td>\n",
       "      <td>10.323596</td>\n",
       "      <td>9.744801</td>\n",
       "      <td>10.454482</td>\n",
       "      <td>10.961873</td>\n",
       "      <td>10.434192</td>\n",
       "      <td>10.221538</td>\n",
       "      <td>9.691769</td>\n",
       "      <td>11.011117</td>\n",
       "      <td>9.842718</td>\n",
       "    </tr>\n",
       "    <tr>\n",
       "      <th>b0002</th>\n",
       "      <td>6.983476</td>\n",
       "      <td>6.571052</td>\n",
       "      <td>7.292860</td>\n",
       "      <td>7.389042</td>\n",
       "      <td>7.505922</td>\n",
       "      <td>7.447071</td>\n",
       "      <td>7.485142</td>\n",
       "      <td>7.472657</td>\n",
       "      <td>5.673380</td>\n",
       "      <td>10.944132</td>\n",
       "      <td>8.814414</td>\n",
       "      <td>6.305649</td>\n",
       "      <td>6.161097</td>\n",
       "      <td>6.195539</td>\n",
       "      <td>6.842824</td>\n",
       "      <td>6.691695</td>\n",
       "      <td>6.904192</td>\n",
       "      <td>6.912470</td>\n",
       "    </tr>\n",
       "    <tr>\n",
       "      <th>b0003</th>\n",
       "      <td>6.279387</td>\n",
       "      <td>7.662864</td>\n",
       "      <td>6.965879</td>\n",
       "      <td>7.184362</td>\n",
       "      <td>7.274294</td>\n",
       "      <td>7.027987</td>\n",
       "      <td>6.999492</td>\n",
       "      <td>7.137968</td>\n",
       "      <td>6.797405</td>\n",
       "      <td>10.051119</td>\n",
       "      <td>8.519854</td>\n",
       "      <td>6.449948</td>\n",
       "      <td>6.466657</td>\n",
       "      <td>6.496632</td>\n",
       "      <td>5.963528</td>\n",
       "      <td>7.843477</td>\n",
       "      <td>6.046817</td>\n",
       "      <td>7.946063</td>\n",
       "    </tr>\n",
       "    <tr>\n",
       "      <th>b0004</th>\n",
       "      <td>6.114676</td>\n",
       "      <td>7.631414</td>\n",
       "      <td>6.980479</td>\n",
       "      <td>7.101836</td>\n",
       "      <td>7.120167</td>\n",
       "      <td>7.007432</td>\n",
       "      <td>7.047836</td>\n",
       "      <td>7.111750</td>\n",
       "      <td>5.485923</td>\n",
       "      <td>9.567757</td>\n",
       "      <td>7.555921</td>\n",
       "      <td>6.171899</td>\n",
       "      <td>6.092189</td>\n",
       "      <td>6.048485</td>\n",
       "      <td>5.933726</td>\n",
       "      <td>7.815431</td>\n",
       "      <td>6.042058</td>\n",
       "      <td>7.986341</td>\n",
       "    </tr>\n",
       "    <tr>\n",
       "      <th>b0005</th>\n",
       "      <td>3.766329</td>\n",
       "      <td>3.760216</td>\n",
       "      <td>3.809159</td>\n",
       "      <td>3.996344</td>\n",
       "      <td>4.185988</td>\n",
       "      <td>3.633578</td>\n",
       "      <td>3.630016</td>\n",
       "      <td>4.117914</td>\n",
       "      <td>4.478287</td>\n",
       "      <td>5.279205</td>\n",
       "      <td>5.193783</td>\n",
       "      <td>3.639005</td>\n",
       "      <td>3.912071</td>\n",
       "      <td>3.554808</td>\n",
       "      <td>3.841613</td>\n",
       "      <td>4.159566</td>\n",
       "      <td>3.827429</td>\n",
       "      <td>4.334063</td>\n",
       "    </tr>\n",
       "  </tbody>\n",
       "</table>\n",
       "</div>"
      ],
      "text/plain": [
       "        PD_131_R10_S1_1  PD_131_R10_S2_1  PD_131_R11_S1_1  PD_131_R11_S2_1  \\\n",
       "Geneid                                                                       \n",
       "b0001         10.542071        10.524913         6.857832         6.906026   \n",
       "b0002          6.983476         6.571052         7.292860         7.389042   \n",
       "b0003          6.279387         7.662864         6.965879         7.184362   \n",
       "b0004          6.114676         7.631414         6.980479         7.101836   \n",
       "b0005          3.766329         3.760216         3.809159         3.996344   \n",
       "\n",
       "        PD_131_R12_S1_1  PD_131_R12_S2_1  PD_131_R13_S1_1  PD_131_R13_S2_1  \\\n",
       "Geneid                                                                       \n",
       "b0001          7.443168         6.222593         6.562538         6.132769   \n",
       "b0002          7.505922         7.447071         7.485142         7.472657   \n",
       "b0003          7.274294         7.027987         6.999492         7.137968   \n",
       "b0004          7.120167         7.007432         7.047836         7.111750   \n",
       "b0005          4.185988         3.633578         3.630016         4.117914   \n",
       "\n",
       "        PD_131_R14_S1_1  PD_131_R15_S1_1  PD_131_R16_S1_1  PD_131_R5_S1_1  \\\n",
       "Geneid                                                                      \n",
       "b0001          8.685035        10.323596         9.744801       10.454482   \n",
       "b0002          5.673380        10.944132         8.814414        6.305649   \n",
       "b0003          6.797405        10.051119         8.519854        6.449948   \n",
       "b0004          5.485923         9.567757         7.555921        6.171899   \n",
       "b0005          4.478287         5.279205         5.193783        3.639005   \n",
       "\n",
       "        PD_131_R6_S1_1  PD_131_R7_S1_1  PD_131_R8_S1_1  PD_131_R8_S2_1  \\\n",
       "Geneid                                                                   \n",
       "b0001        10.961873       10.434192       10.221538        9.691769   \n",
       "b0002         6.161097        6.195539        6.842824        6.691695   \n",
       "b0003         6.466657        6.496632        5.963528        7.843477   \n",
       "b0004         6.092189        6.048485        5.933726        7.815431   \n",
       "b0005         3.912071        3.554808        3.841613        4.159566   \n",
       "\n",
       "        PD_131_R9_S1_1  PD_131_R9_S2_1  \n",
       "Geneid                                  \n",
       "b0001        11.011117        9.842718  \n",
       "b0002         6.904192        6.912470  \n",
       "b0003         6.046817        7.946063  \n",
       "b0004         6.042058        7.986341  \n",
       "b0005         3.827429        4.334063  "
      ]
     },
     "execution_count": 22,
     "metadata": {},
     "output_type": "execute_result"
    }
   ],
   "source": [
    "DF_log_tpm = pd.read_csv(logTPM_file,index_col=0).fillna(0)\n",
    "print('Number of genes:',DF_log_tpm.shape[0])\n",
    "print('Number of samples:',DF_log_tpm.shape[1])\n",
    "DF_log_tpm.head()"
   ]
  },
  {
   "cell_type": "markdown",
   "metadata": {},
   "source": [
    "### Load QC data\n",
    "There may be some datasets that failed along the processing pipeline, so the number of samples with QC data may be higher than the number of samples with expression data."
   ]
  },
  {
   "cell_type": "code",
   "execution_count": 23,
   "metadata": {
    "tags": []
   },
   "outputs": [
    {
     "name": "stdout",
     "output_type": "stream",
     "text": [
      "Number of samples with QC data: 18\n"
     ]
    }
   ],
   "source": [
    "DF_qc_stats = pd.read_csv(multiqc_file,index_col=0, sep='\\t')\n",
    "print('Number of samples with QC data:',DF_qc_stats.shape[0])"
   ]
  },
  {
   "cell_type": "code",
   "execution_count": 24,
   "metadata": {
    "tags": []
   },
   "outputs": [
    {
     "data": {
      "text/html": [
       "<div>\n",
       "<style scoped>\n",
       "    .dataframe tbody tr th:only-of-type {\n",
       "        vertical-align: middle;\n",
       "    }\n",
       "\n",
       "    .dataframe tbody tr th {\n",
       "        vertical-align: top;\n",
       "    }\n",
       "\n",
       "    .dataframe thead th {\n",
       "        text-align: right;\n",
       "    }\n",
       "</style>\n",
       "<table border=\"1\" class=\"dataframe\">\n",
       "  <thead>\n",
       "    <tr style=\"text-align: right;\">\n",
       "      <th></th>\n",
       "      <th>Total</th>\n",
       "      <th>Assigned</th>\n",
       "      <th>Unassigned_rRNA</th>\n",
       "      <th>Unassigned_Unmapped</th>\n",
       "      <th>Unassigned_Read_Type</th>\n",
       "      <th>Unassigned_Singleton</th>\n",
       "      <th>Unassigned_MappingQuality</th>\n",
       "      <th>Unassigned_Chimera</th>\n",
       "      <th>Unassigned_FragmentLength</th>\n",
       "      <th>Unassigned_Duplicate</th>\n",
       "      <th>...</th>\n",
       "      <th>r_processed</th>\n",
       "      <th>r_with_adapters</th>\n",
       "      <th>r_written</th>\n",
       "      <th>bp_processed</th>\n",
       "      <th>quality_trimmed</th>\n",
       "      <th>bp_written</th>\n",
       "      <th>percent_trimmed</th>\n",
       "      <th>pe_sense</th>\n",
       "      <th>pe_antisense</th>\n",
       "      <th>failed</th>\n",
       "    </tr>\n",
       "    <tr>\n",
       "      <th>Sample</th>\n",
       "      <th></th>\n",
       "      <th></th>\n",
       "      <th></th>\n",
       "      <th></th>\n",
       "      <th></th>\n",
       "      <th></th>\n",
       "      <th></th>\n",
       "      <th></th>\n",
       "      <th></th>\n",
       "      <th></th>\n",
       "      <th></th>\n",
       "      <th></th>\n",
       "      <th></th>\n",
       "      <th></th>\n",
       "      <th></th>\n",
       "      <th></th>\n",
       "      <th></th>\n",
       "      <th></th>\n",
       "      <th></th>\n",
       "      <th></th>\n",
       "      <th></th>\n",
       "    </tr>\n",
       "  </thead>\n",
       "  <tbody>\n",
       "    <tr>\n",
       "      <th>PD_131_R10_S1_1</th>\n",
       "      <td>12022808</td>\n",
       "      <td>6363788</td>\n",
       "      <td>190224</td>\n",
       "      <td>1092206</td>\n",
       "      <td>0</td>\n",
       "      <td>0</td>\n",
       "      <td>0</td>\n",
       "      <td>0</td>\n",
       "      <td>636</td>\n",
       "      <td>0</td>\n",
       "      <td>...</td>\n",
       "      <td>12023072</td>\n",
       "      <td>4820971</td>\n",
       "      <td>12023072</td>\n",
       "      <td>1202307200</td>\n",
       "      <td>657149</td>\n",
       "      <td>1195684145</td>\n",
       "      <td>0.550862</td>\n",
       "      <td>0.0184</td>\n",
       "      <td>0.5460</td>\n",
       "      <td>0.4356</td>\n",
       "    </tr>\n",
       "    <tr>\n",
       "      <th>PD_131_R10_S2_1</th>\n",
       "      <td>12130068</td>\n",
       "      <td>6538585</td>\n",
       "      <td>215167</td>\n",
       "      <td>1016155</td>\n",
       "      <td>0</td>\n",
       "      <td>0</td>\n",
       "      <td>0</td>\n",
       "      <td>0</td>\n",
       "      <td>572</td>\n",
       "      <td>0</td>\n",
       "      <td>...</td>\n",
       "      <td>12130472</td>\n",
       "      <td>4847598</td>\n",
       "      <td>12130472</td>\n",
       "      <td>1213047200</td>\n",
       "      <td>603143</td>\n",
       "      <td>1206378162</td>\n",
       "      <td>0.549776</td>\n",
       "      <td>0.0194</td>\n",
       "      <td>0.5221</td>\n",
       "      <td>0.4585</td>\n",
       "    </tr>\n",
       "    <tr>\n",
       "      <th>PD_131_R11_S1_1</th>\n",
       "      <td>12009996</td>\n",
       "      <td>5204541</td>\n",
       "      <td>163050</td>\n",
       "      <td>1134006</td>\n",
       "      <td>0</td>\n",
       "      <td>0</td>\n",
       "      <td>0</td>\n",
       "      <td>0</td>\n",
       "      <td>927</td>\n",
       "      <td>0</td>\n",
       "      <td>...</td>\n",
       "      <td>12010703</td>\n",
       "      <td>4824569</td>\n",
       "      <td>12010703</td>\n",
       "      <td>1201070300</td>\n",
       "      <td>542778</td>\n",
       "      <td>1194648004</td>\n",
       "      <td>0.534714</td>\n",
       "      <td>0.0392</td>\n",
       "      <td>0.5822</td>\n",
       "      <td>0.3787</td>\n",
       "    </tr>\n",
       "    <tr>\n",
       "      <th>PD_131_R11_S2_1</th>\n",
       "      <td>12233716</td>\n",
       "      <td>5142372</td>\n",
       "      <td>153881</td>\n",
       "      <td>980739</td>\n",
       "      <td>0</td>\n",
       "      <td>0</td>\n",
       "      <td>0</td>\n",
       "      <td>0</td>\n",
       "      <td>3793</td>\n",
       "      <td>0</td>\n",
       "      <td>...</td>\n",
       "      <td>12234404</td>\n",
       "      <td>5234134</td>\n",
       "      <td>12234404</td>\n",
       "      <td>1223440400</td>\n",
       "      <td>470668</td>\n",
       "      <td>1216682906</td>\n",
       "      <td>0.552335</td>\n",
       "      <td>0.0390</td>\n",
       "      <td>0.5966</td>\n",
       "      <td>0.3644</td>\n",
       "    </tr>\n",
       "    <tr>\n",
       "      <th>PD_131_R12_S1_1</th>\n",
       "      <td>12251732</td>\n",
       "      <td>5111775</td>\n",
       "      <td>192760</td>\n",
       "      <td>1065103</td>\n",
       "      <td>0</td>\n",
       "      <td>0</td>\n",
       "      <td>0</td>\n",
       "      <td>0</td>\n",
       "      <td>2102</td>\n",
       "      <td>0</td>\n",
       "      <td>...</td>\n",
       "      <td>12252398</td>\n",
       "      <td>4686852</td>\n",
       "      <td>12252398</td>\n",
       "      <td>1225239800</td>\n",
       "      <td>1574220</td>\n",
       "      <td>1216873297</td>\n",
       "      <td>0.682846</td>\n",
       "      <td>0.0390</td>\n",
       "      <td>0.5783</td>\n",
       "      <td>0.3827</td>\n",
       "    </tr>\n",
       "  </tbody>\n",
       "</table>\n",
       "<p>5 rows × 52 columns</p>\n",
       "</div>"
      ],
      "text/plain": [
       "                    Total  Assigned  Unassigned_rRNA  Unassigned_Unmapped  \\\n",
       "Sample                                                                      \n",
       "PD_131_R10_S1_1  12022808   6363788           190224              1092206   \n",
       "PD_131_R10_S2_1  12130068   6538585           215167              1016155   \n",
       "PD_131_R11_S1_1  12009996   5204541           163050              1134006   \n",
       "PD_131_R11_S2_1  12233716   5142372           153881               980739   \n",
       "PD_131_R12_S1_1  12251732   5111775           192760              1065103   \n",
       "\n",
       "                 Unassigned_Read_Type  Unassigned_Singleton  \\\n",
       "Sample                                                        \n",
       "PD_131_R10_S1_1                     0                     0   \n",
       "PD_131_R10_S2_1                     0                     0   \n",
       "PD_131_R11_S1_1                     0                     0   \n",
       "PD_131_R11_S2_1                     0                     0   \n",
       "PD_131_R12_S1_1                     0                     0   \n",
       "\n",
       "                 Unassigned_MappingQuality  Unassigned_Chimera  \\\n",
       "Sample                                                           \n",
       "PD_131_R10_S1_1                          0                   0   \n",
       "PD_131_R10_S2_1                          0                   0   \n",
       "PD_131_R11_S1_1                          0                   0   \n",
       "PD_131_R11_S2_1                          0                   0   \n",
       "PD_131_R12_S1_1                          0                   0   \n",
       "\n",
       "                 Unassigned_FragmentLength  Unassigned_Duplicate  ...  \\\n",
       "Sample                                                            ...   \n",
       "PD_131_R10_S1_1                        636                     0  ...   \n",
       "PD_131_R10_S2_1                        572                     0  ...   \n",
       "PD_131_R11_S1_1                        927                     0  ...   \n",
       "PD_131_R11_S2_1                       3793                     0  ...   \n",
       "PD_131_R12_S1_1                       2102                     0  ...   \n",
       "\n",
       "                 r_processed  r_with_adapters  r_written  bp_processed  \\\n",
       "Sample                                                                   \n",
       "PD_131_R10_S1_1     12023072          4820971   12023072    1202307200   \n",
       "PD_131_R10_S2_1     12130472          4847598   12130472    1213047200   \n",
       "PD_131_R11_S1_1     12010703          4824569   12010703    1201070300   \n",
       "PD_131_R11_S2_1     12234404          5234134   12234404    1223440400   \n",
       "PD_131_R12_S1_1     12252398          4686852   12252398    1225239800   \n",
       "\n",
       "                 quality_trimmed  bp_written  percent_trimmed  pe_sense  \\\n",
       "Sample                                                                    \n",
       "PD_131_R10_S1_1           657149  1195684145         0.550862    0.0184   \n",
       "PD_131_R10_S2_1           603143  1206378162         0.549776    0.0194   \n",
       "PD_131_R11_S1_1           542778  1194648004         0.534714    0.0392   \n",
       "PD_131_R11_S2_1           470668  1216682906         0.552335    0.0390   \n",
       "PD_131_R12_S1_1          1574220  1216873297         0.682846    0.0390   \n",
       "\n",
       "                 pe_antisense  failed  \n",
       "Sample                                 \n",
       "PD_131_R10_S1_1        0.5460  0.4356  \n",
       "PD_131_R10_S2_1        0.5221  0.4585  \n",
       "PD_131_R11_S1_1        0.5822  0.3787  \n",
       "PD_131_R11_S2_1        0.5966  0.3644  \n",
       "PD_131_R12_S1_1        0.5783  0.3827  \n",
       "\n",
       "[5 rows x 52 columns]"
      ]
     },
     "execution_count": 24,
     "metadata": {},
     "output_type": "execute_result"
    }
   ],
   "source": [
    "DF_qc_stats.fillna(0,inplace=True)\n",
    "DF_qc_stats.head()"
   ]
  },
  {
   "cell_type": "markdown",
   "metadata": {},
   "source": [
    "### Load metadata"
   ]
  },
  {
   "cell_type": "code",
   "execution_count": 25,
   "metadata": {
    "tags": []
   },
   "outputs": [
    {
     "name": "stdout",
     "output_type": "stream",
     "text": [
      "Number of samples with metadata: 18\n"
     ]
    },
    {
     "data": {
      "text/html": [
       "<div>\n",
       "<style scoped>\n",
       "    .dataframe tbody tr th:only-of-type {\n",
       "        vertical-align: middle;\n",
       "    }\n",
       "\n",
       "    .dataframe tbody tr th {\n",
       "        vertical-align: top;\n",
       "    }\n",
       "\n",
       "    .dataframe thead th {\n",
       "        text-align: right;\n",
       "    }\n",
       "</style>\n",
       "<table border=\"1\" class=\"dataframe\">\n",
       "  <thead>\n",
       "    <tr style=\"text-align: right;\">\n",
       "      <th></th>\n",
       "      <th>LibraryLayout</th>\n",
       "      <th>Platform</th>\n",
       "      <th>Run</th>\n",
       "      <th>R1</th>\n",
       "      <th>R2</th>\n",
       "    </tr>\n",
       "    <tr>\n",
       "      <th>Experiment</th>\n",
       "      <th></th>\n",
       "      <th></th>\n",
       "      <th></th>\n",
       "      <th></th>\n",
       "      <th></th>\n",
       "    </tr>\n",
       "  </thead>\n",
       "  <tbody>\n",
       "    <tr>\n",
       "      <th>PD_131_R10_S1_1</th>\n",
       "      <td>PAIRED</td>\n",
       "      <td>DNBSEQ</td>\n",
       "      <td>NaN</td>\n",
       "      <td>PD_131_R10_S1_1.fq.gz</td>\n",
       "      <td>PD_131_R10_S1_2.fq.gz</td>\n",
       "    </tr>\n",
       "    <tr>\n",
       "      <th>PD_131_R10_S2_1</th>\n",
       "      <td>PAIRED</td>\n",
       "      <td>DNBSEQ</td>\n",
       "      <td>NaN</td>\n",
       "      <td>PD_131_R10_S2_1.fq.gz</td>\n",
       "      <td>PD_131_R10_S2_2.fq.gz</td>\n",
       "    </tr>\n",
       "    <tr>\n",
       "      <th>PD_131_R11_S1_1</th>\n",
       "      <td>PAIRED</td>\n",
       "      <td>DNBSEQ</td>\n",
       "      <td>NaN</td>\n",
       "      <td>PD_131_R11_S1_1.fq.gz</td>\n",
       "      <td>PD_131_R11_S1_2.fq.gz</td>\n",
       "    </tr>\n",
       "    <tr>\n",
       "      <th>PD_131_R11_S2_1</th>\n",
       "      <td>PAIRED</td>\n",
       "      <td>DNBSEQ</td>\n",
       "      <td>NaN</td>\n",
       "      <td>PD_131_R11_S2_1.fq.gz</td>\n",
       "      <td>PD_131_R11_S2_2.fq.gz</td>\n",
       "    </tr>\n",
       "    <tr>\n",
       "      <th>PD_131_R12_S1_1</th>\n",
       "      <td>PAIRED</td>\n",
       "      <td>DNBSEQ</td>\n",
       "      <td>NaN</td>\n",
       "      <td>PD_131_R12_S1_1.fq.gz</td>\n",
       "      <td>PD_131_R12_S1_2.fq.gz</td>\n",
       "    </tr>\n",
       "  </tbody>\n",
       "</table>\n",
       "</div>"
      ],
      "text/plain": [
       "                LibraryLayout Platform  Run                     R1  \\\n",
       "Experiment                                                           \n",
       "PD_131_R10_S1_1        PAIRED   DNBSEQ  NaN  PD_131_R10_S1_1.fq.gz   \n",
       "PD_131_R10_S2_1        PAIRED   DNBSEQ  NaN  PD_131_R10_S2_1.fq.gz   \n",
       "PD_131_R11_S1_1        PAIRED   DNBSEQ  NaN  PD_131_R11_S1_1.fq.gz   \n",
       "PD_131_R11_S2_1        PAIRED   DNBSEQ  NaN  PD_131_R11_S2_1.fq.gz   \n",
       "PD_131_R12_S1_1        PAIRED   DNBSEQ  NaN  PD_131_R12_S1_1.fq.gz   \n",
       "\n",
       "                                    R2  \n",
       "Experiment                              \n",
       "PD_131_R10_S1_1  PD_131_R10_S1_2.fq.gz  \n",
       "PD_131_R10_S2_1  PD_131_R10_S2_2.fq.gz  \n",
       "PD_131_R11_S1_1  PD_131_R11_S1_2.fq.gz  \n",
       "PD_131_R11_S2_1  PD_131_R11_S2_2.fq.gz  \n",
       "PD_131_R12_S1_1  PD_131_R12_S1_2.fq.gz  "
      ]
     },
     "execution_count": 25,
     "metadata": {},
     "output_type": "execute_result"
    }
   ],
   "source": [
    "DF_metadata = pd.read_csv(metadata_file,index_col=0,sep='\\t')\n",
    "print('Number of samples with metadata:',DF_metadata.shape[0])\n",
    "DF_metadata.head()"
   ]
  },
  {
   "cell_type": "markdown",
   "metadata": {},
   "source": [
    "### Remove extra sample rows"
   ]
  },
  {
   "cell_type": "markdown",
   "metadata": {},
   "source": [
    "Ensure that metadata and qc_stats data contain all log_tpm sample information."
   ]
  },
  {
   "cell_type": "code",
   "execution_count": 26,
   "metadata": {
    "tags": []
   },
   "outputs": [],
   "source": [
    "assert(set(DF_log_tpm.columns) - set(DF_metadata.index) == set())\n",
    "assert(set(DF_log_tpm.columns) - set(DF_qc_stats.index) == set())"
   ]
  },
  {
   "cell_type": "code",
   "execution_count": 27,
   "metadata": {
    "tags": []
   },
   "outputs": [],
   "source": [
    "DF_metadata = DF_metadata.loc[DF_log_tpm.columns]\n",
    "DF_qc_stats = DF_qc_stats.loc[DF_log_tpm.columns]"
   ]
  },
  {
   "cell_type": "code",
   "execution_count": 28,
   "metadata": {
    "tags": []
   },
   "outputs": [
    {
     "data": {
      "text/plain": [
       "Index(['Total', 'Assigned', 'Unassigned_rRNA', 'Unassigned_Unmapped',\n",
       "       'Unassigned_Read_Type', 'Unassigned_Singleton',\n",
       "       'Unassigned_MappingQuality', 'Unassigned_Chimera',\n",
       "       'Unassigned_FragmentLength', 'Unassigned_Duplicate',\n",
       "       'Unassigned_MultiMapping', 'Unassigned_Secondary',\n",
       "       'Unassigned_NonSplit', 'Unassigned_NoFeatures',\n",
       "       'Unassigned_Overlapping_Length', 'Unassigned_Ambiguity',\n",
       "       'percent_assigned', 'reads_processed', 'reads_aligned',\n",
       "       'reads_aligned_percentage', 'not_aligned', 'not_aligned_percentage',\n",
       "       'Filename', 'File type', 'Encoding', 'Total Sequences',\n",
       "       'Sequences flagged as poor quality', 'Sequence length', '%GC',\n",
       "       'total_deduplicated_percentage', 'avg_sequence_length',\n",
       "       'basic_statistics', 'per_base_sequence_quality',\n",
       "       'per_sequence_quality_scores', 'per_base_sequence_content',\n",
       "       'per_sequence_gc_content', 'per_base_n_content',\n",
       "       'sequence_length_distribution', 'sequence_duplication_levels',\n",
       "       'overrepresented_sequences', 'adapter_content', 'cutadapt_version',\n",
       "       'r_processed', 'r_with_adapters', 'r_written', 'bp_processed',\n",
       "       'quality_trimmed', 'bp_written', 'percent_trimmed', 'pe_sense',\n",
       "       'pe_antisense', 'failed'],\n",
       "      dtype='object')"
      ]
     },
     "execution_count": 28,
     "metadata": {},
     "output_type": "execute_result"
    }
   ],
   "source": [
    "DF_qc_stats.columns"
   ]
  },
  {
   "cell_type": "markdown",
   "metadata": {},
   "source": [
    "## Check QC statistics"
   ]
  },
  {
   "cell_type": "markdown",
   "metadata": {},
   "source": [
    "### FastQC quality control"
   ]
  },
  {
   "cell_type": "code",
   "execution_count": 29,
   "metadata": {
    "tags": []
   },
   "outputs": [],
   "source": [
    "# fastqc_cols = ['per_base_sequence_quality',\n",
    "#        'per_tile_sequence_quality', 'per_sequence_quality_scores',\n",
    "#        'per_base_sequence_content', 'per_sequence_gc_content',\n",
    "#        'per_base_n_content', 'sequence_length_distribution',\n",
    "#        'sequence_duplication_levels', 'overrepresented_sequences',\n",
    "#        'adapter_content']\n",
    "\n",
    "fastqc_cols = ['per_base_sequence_quality', 'per_sequence_quality_scores',\n",
    "       'per_base_sequence_content', 'per_sequence_gc_content',\n",
    "       'per_base_n_content', 'sequence_length_distribution',\n",
    "       'sequence_duplication_levels', 'overrepresented_sequences',\n",
    "       'adapter_content']"
   ]
  },
  {
   "cell_type": "code",
   "execution_count": 30,
   "metadata": {
    "tags": []
   },
   "outputs": [
    {
     "data": {
      "image/png": "[encoded data removed]",
      "text/plain": [
       "<Figure size 640x480 with 2 Axes>"
      ]
     },
     "metadata": {},
     "output_type": "display_data"
    }
   ],
   "source": [
    "DF_fastqc = DF_qc_stats[fastqc_cols]\n",
    "ax = sns.heatmap(DF_fastqc.replace('pass',1).replace('warn',0).replace('fail',-1),\n",
    "            cmap='RdYlBu',vmax=1.3,vmin=-1.3)\n",
    "cbar = ax.collections[0].colorbar\n",
    "cbar.set_ticks([-1,0,1])\n",
    "cbar.set_ticklabels(['fail','warn','pass'])"
   ]
  },
  {
   "cell_type": "markdown",
   "metadata": {},
   "source": [
    "The following four categories are the most important:\n",
    "* per_base_sequence_quality\n",
    "* per_sequence_quality_scores\n",
    "* per_base_n_content\n",
    "* adapter_content\n",
    "    \n",
    "If a sample does not pass any of these four categories, discard the sample."
   ]
  },
  {
   "cell_type": "code",
   "execution_count": 31,
   "metadata": {
    "tags": []
   },
   "outputs": [],
   "source": [
    "fastqc_fail_cols = ['per_base_sequence_quality','per_sequence_quality_scores','per_base_n_content','adapter_content']"
   ]
  },
  {
   "cell_type": "code",
   "execution_count": 32,
   "metadata": {
    "tags": []
   },
   "outputs": [
    {
     "data": {
      "text/html": [
       "<div>\n",
       "<style scoped>\n",
       "    .dataframe tbody tr th:only-of-type {\n",
       "        vertical-align: middle;\n",
       "    }\n",
       "\n",
       "    .dataframe tbody tr th {\n",
       "        vertical-align: top;\n",
       "    }\n",
       "\n",
       "    .dataframe thead th {\n",
       "        text-align: right;\n",
       "    }\n",
       "</style>\n",
       "<table border=\"1\" class=\"dataframe\">\n",
       "  <thead>\n",
       "    <tr style=\"text-align: right;\">\n",
       "      <th></th>\n",
       "      <th>per_base_sequence_quality</th>\n",
       "      <th>per_sequence_quality_scores</th>\n",
       "      <th>per_base_n_content</th>\n",
       "      <th>adapter_content</th>\n",
       "    </tr>\n",
       "  </thead>\n",
       "  <tbody>\n",
       "  </tbody>\n",
       "</table>\n",
       "</div>"
      ],
      "text/plain": [
       "Empty DataFrame\n",
       "Columns: [per_base_sequence_quality, per_sequence_quality_scores, per_base_n_content, adapter_content]\n",
       "Index: []"
      ]
     },
     "execution_count": 32,
     "metadata": {},
     "output_type": "execute_result"
    }
   ],
   "source": [
    "DF_failed_fastqc = DF_fastqc[fastqc_fail_cols][(DF_fastqc[fastqc_fail_cols] != 'pass').any(axis=1)]\n",
    "DF_failed_fastqc[fastqc_fail_cols]"
   ]
  },
  {
   "cell_type": "markdown",
   "metadata": {},
   "source": [
    "Mark samples that passed."
   ]
  },
  {
   "cell_type": "code",
   "execution_count": 33,
   "metadata": {
    "tags": []
   },
   "outputs": [],
   "source": [
    "DF_metadata['passed_fastqc'] = ~DF_metadata.index.isin(DF_failed_fastqc.index)"
   ]
  },
  {
   "cell_type": "markdown",
   "metadata": {},
   "source": [
    "### Number of aligned reads"
   ]
  },
  {
   "cell_type": "markdown",
   "metadata": {},
   "source": [
    "The following histogram shows how many reads map to coding sequences (i.e. mRNA). Too few aligned reads reduces the sensitivity of the resulting data."
   ]
  },
  {
   "cell_type": "code",
   "execution_count": 34,
   "metadata": {
    "tags": []
   },
   "outputs": [],
   "source": [
    "min_mrna_reads = 500000 # Minimum number of reads mapped to mRNA (500,000)"
   ]
  },
  {
   "cell_type": "code",
   "execution_count": 35,
   "metadata": {
    "tags": []
   },
   "outputs": [
    {
     "data": {
      "text/plain": [
       "Text(0.5, 1.0, 'Number of reads mapped to CDS')"
      ]
     },
     "execution_count": 35,
     "metadata": {},
     "output_type": "execute_result"
    },
    {
     "data": {
      "image/png": "[encoded data removed]",
      "text/plain": [
       "<Figure size 640x480 with 1 Axes>"
      ]
     },
     "metadata": {},
     "output_type": "display_data"
    }
   ],
   "source": [
    "fig,ax = plt.subplots()\n",
    "ax.hist(DF_qc_stats['Assigned']/1e6,bins=50,alpha=0.8)\n",
    "ymin,ymax = ax.get_ylim()\n",
    "ax.vlines(min_mrna_reads/1e6,ymin,ymax,color='r')\n",
    "ax.set_ylim((ymin,ymax))\n",
    "ax.set_xlabel('# Reads (M)',fontsize=14)\n",
    "ax.set_ylabel('# Samples',fontsize=14)\n",
    "ax.set_title('Number of reads mapped to CDS',fontsize=16)"
   ]
  },
  {
   "cell_type": "markdown",
   "metadata": {},
   "source": [
    "Identify samples with poor read depth:"
   ]
  },
  {
   "cell_type": "code",
   "execution_count": 36,
   "metadata": {
    "tags": []
   },
   "outputs": [
    {
     "data": {
      "text/html": [
       "<div>\n",
       "<style scoped>\n",
       "    .dataframe tbody tr th:only-of-type {\n",
       "        vertical-align: middle;\n",
       "    }\n",
       "\n",
       "    .dataframe tbody tr th {\n",
       "        vertical-align: top;\n",
       "    }\n",
       "\n",
       "    .dataframe thead th {\n",
       "        text-align: right;\n",
       "    }\n",
       "</style>\n",
       "<table border=\"1\" class=\"dataframe\">\n",
       "  <thead>\n",
       "    <tr style=\"text-align: right;\">\n",
       "      <th></th>\n",
       "      <th>Total</th>\n",
       "      <th>Assigned</th>\n",
       "      <th>Unassigned_rRNA</th>\n",
       "      <th>Unassigned_Unmapped</th>\n",
       "      <th>Unassigned_Read_Type</th>\n",
       "      <th>Unassigned_Singleton</th>\n",
       "      <th>Unassigned_MappingQuality</th>\n",
       "      <th>Unassigned_Chimera</th>\n",
       "      <th>Unassigned_FragmentLength</th>\n",
       "      <th>Unassigned_Duplicate</th>\n",
       "      <th>...</th>\n",
       "      <th>r_processed</th>\n",
       "      <th>r_with_adapters</th>\n",
       "      <th>r_written</th>\n",
       "      <th>bp_processed</th>\n",
       "      <th>quality_trimmed</th>\n",
       "      <th>bp_written</th>\n",
       "      <th>percent_trimmed</th>\n",
       "      <th>pe_sense</th>\n",
       "      <th>pe_antisense</th>\n",
       "      <th>failed</th>\n",
       "    </tr>\n",
       "  </thead>\n",
       "  <tbody>\n",
       "  </tbody>\n",
       "</table>\n",
       "<p>0 rows × 52 columns</p>\n",
       "</div>"
      ],
      "text/plain": [
       "Empty DataFrame\n",
       "Columns: [Total, Assigned, Unassigned_rRNA, Unassigned_Unmapped, Unassigned_Read_Type, Unassigned_Singleton, Unassigned_MappingQuality, Unassigned_Chimera, Unassigned_FragmentLength, Unassigned_Duplicate, Unassigned_MultiMapping, Unassigned_Secondary, Unassigned_NonSplit, Unassigned_NoFeatures, Unassigned_Overlapping_Length, Unassigned_Ambiguity, percent_assigned, reads_processed, reads_aligned, reads_aligned_percentage, not_aligned, not_aligned_percentage, Filename, File type, Encoding, Total Sequences, Sequences flagged as poor quality, Sequence length, %GC, total_deduplicated_percentage, avg_sequence_length, basic_statistics, per_base_sequence_quality, per_sequence_quality_scores, per_base_sequence_content, per_sequence_gc_content, per_base_n_content, sequence_length_distribution, sequence_duplication_levels, overrepresented_sequences, adapter_content, cutadapt_version, r_processed, r_with_adapters, r_written, bp_processed, quality_trimmed, bp_written, percent_trimmed, pe_sense, pe_antisense, failed]\n",
       "Index: []\n",
       "\n",
       "[0 rows x 52 columns]"
      ]
     },
     "execution_count": 36,
     "metadata": {},
     "output_type": "execute_result"
    }
   ],
   "source": [
    "DF_failed_mrna = DF_qc_stats[DF_qc_stats['Assigned'] < min_mrna_reads].sort_values('Assigned')\n",
    "DF_failed_mrna"
   ]
  },
  {
   "cell_type": "markdown",
   "metadata": {},
   "source": [
    "Mark samples that passed."
   ]
  },
  {
   "cell_type": "code",
   "execution_count": 37,
   "metadata": {
    "tags": []
   },
   "outputs": [],
   "source": [
    "DF_metadata['passed_reads_mapped_to_CDS'] = ~DF_metadata.index.isin(DF_failed_mrna.index)"
   ]
  },
  {
   "cell_type": "markdown",
   "metadata": {},
   "source": [
    "### Examine Global Correlations"
   ]
  },
  {
   "cell_type": "markdown",
   "metadata": {},
   "source": [
    "Only examine data that passed the first two steps."
   ]
  },
  {
   "cell_type": "code",
   "execution_count": 38,
   "metadata": {
    "tags": []
   },
   "outputs": [],
   "source": [
    "metadata_passed_step2 = DF_metadata[DF_metadata[['passed_fastqc','passed_reads_mapped_to_CDS']].all(axis=1)]\n",
    "DF_log_tpm_passed_step2 = DF_log_tpm[metadata_passed_step2.index]"
   ]
  },
  {
   "cell_type": "code",
   "execution_count": 39,
   "metadata": {
    "tags": []
   },
   "outputs": [
    {
     "data": {
      "text/html": [
       "<div>\n",
       "<style scoped>\n",
       "    .dataframe tbody tr th:only-of-type {\n",
       "        vertical-align: middle;\n",
       "    }\n",
       "\n",
       "    .dataframe tbody tr th {\n",
       "        vertical-align: top;\n",
       "    }\n",
       "\n",
       "    .dataframe thead th {\n",
       "        text-align: right;\n",
       "    }\n",
       "</style>\n",
       "<table border=\"1\" class=\"dataframe\">\n",
       "  <thead>\n",
       "    <tr style=\"text-align: right;\">\n",
       "      <th></th>\n",
       "      <th>PD_131_R10_S1_1</th>\n",
       "      <th>PD_131_R10_S2_1</th>\n",
       "      <th>PD_131_R11_S1_1</th>\n",
       "      <th>PD_131_R11_S2_1</th>\n",
       "      <th>PD_131_R12_S1_1</th>\n",
       "      <th>PD_131_R12_S2_1</th>\n",
       "      <th>PD_131_R13_S1_1</th>\n",
       "      <th>PD_131_R13_S2_1</th>\n",
       "      <th>PD_131_R14_S1_1</th>\n",
       "      <th>PD_131_R15_S1_1</th>\n",
       "      <th>PD_131_R16_S1_1</th>\n",
       "      <th>PD_131_R5_S1_1</th>\n",
       "      <th>PD_131_R6_S1_1</th>\n",
       "      <th>PD_131_R7_S1_1</th>\n",
       "      <th>PD_131_R8_S1_1</th>\n",
       "      <th>PD_131_R8_S2_1</th>\n",
       "      <th>PD_131_R9_S1_1</th>\n",
       "      <th>PD_131_R9_S2_1</th>\n",
       "    </tr>\n",
       "    <tr>\n",
       "      <th>Geneid</th>\n",
       "      <th></th>\n",
       "      <th></th>\n",
       "      <th></th>\n",
       "      <th></th>\n",
       "      <th></th>\n",
       "      <th></th>\n",
       "      <th></th>\n",
       "      <th></th>\n",
       "      <th></th>\n",
       "      <th></th>\n",
       "      <th></th>\n",
       "      <th></th>\n",
       "      <th></th>\n",
       "      <th></th>\n",
       "      <th></th>\n",
       "      <th></th>\n",
       "      <th></th>\n",
       "      <th></th>\n",
       "    </tr>\n",
       "  </thead>\n",
       "  <tbody>\n",
       "    <tr>\n",
       "      <th>b0001</th>\n",
       "      <td>10.542071</td>\n",
       "      <td>10.524913</td>\n",
       "      <td>6.857832</td>\n",
       "      <td>6.906026</td>\n",
       "      <td>7.443168</td>\n",
       "      <td>6.222593</td>\n",
       "      <td>6.562538</td>\n",
       "      <td>6.132769</td>\n",
       "      <td>8.685035</td>\n",
       "      <td>10.323596</td>\n",
       "      <td>9.744801</td>\n",
       "      <td>10.454482</td>\n",
       "      <td>10.961873</td>\n",
       "      <td>10.434192</td>\n",
       "      <td>10.221538</td>\n",
       "      <td>9.691769</td>\n",
       "      <td>11.011117</td>\n",
       "      <td>9.842718</td>\n",
       "    </tr>\n",
       "    <tr>\n",
       "      <th>b0002</th>\n",
       "      <td>6.983476</td>\n",
       "      <td>6.571052</td>\n",
       "      <td>7.292860</td>\n",
       "      <td>7.389042</td>\n",
       "      <td>7.505922</td>\n",
       "      <td>7.447071</td>\n",
       "      <td>7.485142</td>\n",
       "      <td>7.472657</td>\n",
       "      <td>5.673380</td>\n",
       "      <td>10.944132</td>\n",
       "      <td>8.814414</td>\n",
       "      <td>6.305649</td>\n",
       "      <td>6.161097</td>\n",
       "      <td>6.195539</td>\n",
       "      <td>6.842824</td>\n",
       "      <td>6.691695</td>\n",
       "      <td>6.904192</td>\n",
       "      <td>6.912470</td>\n",
       "    </tr>\n",
       "    <tr>\n",
       "      <th>b0003</th>\n",
       "      <td>6.279387</td>\n",
       "      <td>7.662864</td>\n",
       "      <td>6.965879</td>\n",
       "      <td>7.184362</td>\n",
       "      <td>7.274294</td>\n",
       "      <td>7.027987</td>\n",
       "      <td>6.999492</td>\n",
       "      <td>7.137968</td>\n",
       "      <td>6.797405</td>\n",
       "      <td>10.051119</td>\n",
       "      <td>8.519854</td>\n",
       "      <td>6.449948</td>\n",
       "      <td>6.466657</td>\n",
       "      <td>6.496632</td>\n",
       "      <td>5.963528</td>\n",
       "      <td>7.843477</td>\n",
       "      <td>6.046817</td>\n",
       "      <td>7.946063</td>\n",
       "    </tr>\n",
       "    <tr>\n",
       "      <th>b0004</th>\n",
       "      <td>6.114676</td>\n",
       "      <td>7.631414</td>\n",
       "      <td>6.980479</td>\n",
       "      <td>7.101836</td>\n",
       "      <td>7.120167</td>\n",
       "      <td>7.007432</td>\n",
       "      <td>7.047836</td>\n",
       "      <td>7.111750</td>\n",
       "      <td>5.485923</td>\n",
       "      <td>9.567757</td>\n",
       "      <td>7.555921</td>\n",
       "      <td>6.171899</td>\n",
       "      <td>6.092189</td>\n",
       "      <td>6.048485</td>\n",
       "      <td>5.933726</td>\n",
       "      <td>7.815431</td>\n",
       "      <td>6.042058</td>\n",
       "      <td>7.986341</td>\n",
       "    </tr>\n",
       "    <tr>\n",
       "      <th>b0005</th>\n",
       "      <td>3.766329</td>\n",
       "      <td>3.760216</td>\n",
       "      <td>3.809159</td>\n",
       "      <td>3.996344</td>\n",
       "      <td>4.185988</td>\n",
       "      <td>3.633578</td>\n",
       "      <td>3.630016</td>\n",
       "      <td>4.117914</td>\n",
       "      <td>4.478287</td>\n",
       "      <td>5.279205</td>\n",
       "      <td>5.193783</td>\n",
       "      <td>3.639005</td>\n",
       "      <td>3.912071</td>\n",
       "      <td>3.554808</td>\n",
       "      <td>3.841613</td>\n",
       "      <td>4.159566</td>\n",
       "      <td>3.827429</td>\n",
       "      <td>4.334063</td>\n",
       "    </tr>\n",
       "    <tr>\n",
       "      <th>...</th>\n",
       "      <td>...</td>\n",
       "      <td>...</td>\n",
       "      <td>...</td>\n",
       "      <td>...</td>\n",
       "      <td>...</td>\n",
       "      <td>...</td>\n",
       "      <td>...</td>\n",
       "      <td>...</td>\n",
       "      <td>...</td>\n",
       "      <td>...</td>\n",
       "      <td>...</td>\n",
       "      <td>...</td>\n",
       "      <td>...</td>\n",
       "      <td>...</td>\n",
       "      <td>...</td>\n",
       "      <td>...</td>\n",
       "      <td>...</td>\n",
       "      <td>...</td>\n",
       "    </tr>\n",
       "    <tr>\n",
       "      <th>b4399</th>\n",
       "      <td>4.148453</td>\n",
       "      <td>3.902099</td>\n",
       "      <td>3.143706</td>\n",
       "      <td>3.282448</td>\n",
       "      <td>3.137995</td>\n",
       "      <td>3.665043</td>\n",
       "      <td>3.126755</td>\n",
       "      <td>3.476072</td>\n",
       "      <td>3.546637</td>\n",
       "      <td>3.511177</td>\n",
       "      <td>3.461047</td>\n",
       "      <td>4.338955</td>\n",
       "      <td>4.210098</td>\n",
       "      <td>4.157100</td>\n",
       "      <td>4.028715</td>\n",
       "      <td>3.879082</td>\n",
       "      <td>3.863476</td>\n",
       "      <td>4.016300</td>\n",
       "    </tr>\n",
       "    <tr>\n",
       "      <th>b4400</th>\n",
       "      <td>4.687163</td>\n",
       "      <td>4.943866</td>\n",
       "      <td>3.684072</td>\n",
       "      <td>3.959599</td>\n",
       "      <td>3.884705</td>\n",
       "      <td>3.825583</td>\n",
       "      <td>3.897530</td>\n",
       "      <td>3.791127</td>\n",
       "      <td>3.410435</td>\n",
       "      <td>3.868458</td>\n",
       "      <td>3.936520</td>\n",
       "      <td>4.909979</td>\n",
       "      <td>4.849761</td>\n",
       "      <td>5.043051</td>\n",
       "      <td>4.947025</td>\n",
       "      <td>4.991526</td>\n",
       "      <td>4.905311</td>\n",
       "      <td>4.755866</td>\n",
       "    </tr>\n",
       "    <tr>\n",
       "      <th>b4401</th>\n",
       "      <td>9.751545</td>\n",
       "      <td>9.887230</td>\n",
       "      <td>10.863338</td>\n",
       "      <td>10.735964</td>\n",
       "      <td>10.713577</td>\n",
       "      <td>10.773760</td>\n",
       "      <td>10.951678</td>\n",
       "      <td>10.906079</td>\n",
       "      <td>9.089306</td>\n",
       "      <td>9.163241</td>\n",
       "      <td>9.185704</td>\n",
       "      <td>9.825588</td>\n",
       "      <td>9.744755</td>\n",
       "      <td>9.710376</td>\n",
       "      <td>9.674630</td>\n",
       "      <td>9.993849</td>\n",
       "      <td>9.719481</td>\n",
       "      <td>10.093622</td>\n",
       "    </tr>\n",
       "    <tr>\n",
       "      <th>b4402</th>\n",
       "      <td>4.588682</td>\n",
       "      <td>4.639081</td>\n",
       "      <td>7.715643</td>\n",
       "      <td>7.909770</td>\n",
       "      <td>7.812447</td>\n",
       "      <td>7.857727</td>\n",
       "      <td>7.092695</td>\n",
       "      <td>7.593757</td>\n",
       "      <td>7.273793</td>\n",
       "      <td>6.797145</td>\n",
       "      <td>7.185419</td>\n",
       "      <td>4.353471</td>\n",
       "      <td>4.099892</td>\n",
       "      <td>3.945979</td>\n",
       "      <td>4.756816</td>\n",
       "      <td>3.858394</td>\n",
       "      <td>4.744738</td>\n",
       "      <td>4.577753</td>\n",
       "    </tr>\n",
       "    <tr>\n",
       "      <th>b4403</th>\n",
       "      <td>4.775651</td>\n",
       "      <td>3.851463</td>\n",
       "      <td>7.613854</td>\n",
       "      <td>7.701593</td>\n",
       "      <td>7.845487</td>\n",
       "      <td>7.747157</td>\n",
       "      <td>7.711262</td>\n",
       "      <td>7.753460</td>\n",
       "      <td>6.040053</td>\n",
       "      <td>6.207592</td>\n",
       "      <td>6.147842</td>\n",
       "      <td>4.426391</td>\n",
       "      <td>4.315972</td>\n",
       "      <td>4.195736</td>\n",
       "      <td>4.778053</td>\n",
       "      <td>3.612618</td>\n",
       "      <td>4.801908</td>\n",
       "      <td>4.053737</td>\n",
       "    </tr>\n",
       "  </tbody>\n",
       "</table>\n",
       "<p>4355 rows × 18 columns</p>\n",
       "</div>"
      ],
      "text/plain": [
       "        PD_131_R10_S1_1  PD_131_R10_S2_1  PD_131_R11_S1_1  PD_131_R11_S2_1  \\\n",
       "Geneid                                                                       \n",
       "b0001         10.542071        10.524913         6.857832         6.906026   \n",
       "b0002          6.983476         6.571052         7.292860         7.389042   \n",
       "b0003          6.279387         7.662864         6.965879         7.184362   \n",
       "b0004          6.114676         7.631414         6.980479         7.101836   \n",
       "b0005          3.766329         3.760216         3.809159         3.996344   \n",
       "...                 ...              ...              ...              ...   \n",
       "b4399          4.148453         3.902099         3.143706         3.282448   \n",
       "b4400          4.687163         4.943866         3.684072         3.959599   \n",
       "b4401          9.751545         9.887230        10.863338        10.735964   \n",
       "b4402          4.588682         4.639081         7.715643         7.909770   \n",
       "b4403          4.775651         3.851463         7.613854         7.701593   \n",
       "\n",
       "        PD_131_R12_S1_1  PD_131_R12_S2_1  PD_131_R13_S1_1  PD_131_R13_S2_1  \\\n",
       "Geneid                                                                       \n",
       "b0001          7.443168         6.222593         6.562538         6.132769   \n",
       "b0002          7.505922         7.447071         7.485142         7.472657   \n",
       "b0003          7.274294         7.027987         6.999492         7.137968   \n",
       "b0004          7.120167         7.007432         7.047836         7.111750   \n",
       "b0005          4.185988         3.633578         3.630016         4.117914   \n",
       "...                 ...              ...              ...              ...   \n",
       "b4399          3.137995         3.665043         3.126755         3.476072   \n",
       "b4400          3.884705         3.825583         3.897530         3.791127   \n",
       "b4401         10.713577        10.773760        10.951678        10.906079   \n",
       "b4402          7.812447         7.857727         7.092695         7.593757   \n",
       "b4403          7.845487         7.747157         7.711262         7.753460   \n",
       "\n",
       "        PD_131_R14_S1_1  PD_131_R15_S1_1  PD_131_R16_S1_1  PD_131_R5_S1_1  \\\n",
       "Geneid                                                                      \n",
       "b0001          8.685035        10.323596         9.744801       10.454482   \n",
       "b0002          5.673380        10.944132         8.814414        6.305649   \n",
       "b0003          6.797405        10.051119         8.519854        6.449948   \n",
       "b0004          5.485923         9.567757         7.555921        6.171899   \n",
       "b0005          4.478287         5.279205         5.193783        3.639005   \n",
       "...                 ...              ...              ...             ...   \n",
       "b4399          3.546637         3.511177         3.461047        4.338955   \n",
       "b4400          3.410435         3.868458         3.936520        4.909979   \n",
       "b4401          9.089306         9.163241         9.185704        9.825588   \n",
       "b4402          7.273793         6.797145         7.185419        4.353471   \n",
       "b4403          6.040053         6.207592         6.147842        4.426391   \n",
       "\n",
       "        PD_131_R6_S1_1  PD_131_R7_S1_1  PD_131_R8_S1_1  PD_131_R8_S2_1  \\\n",
       "Geneid                                                                   \n",
       "b0001        10.961873       10.434192       10.221538        9.691769   \n",
       "b0002         6.161097        6.195539        6.842824        6.691695   \n",
       "b0003         6.466657        6.496632        5.963528        7.843477   \n",
       "b0004         6.092189        6.048485        5.933726        7.815431   \n",
       "b0005         3.912071        3.554808        3.841613        4.159566   \n",
       "...                ...             ...             ...             ...   \n",
       "b4399         4.210098        4.157100        4.028715        3.879082   \n",
       "b4400         4.849761        5.043051        4.947025        4.991526   \n",
       "b4401         9.744755        9.710376        9.674630        9.993849   \n",
       "b4402         4.099892        3.945979        4.756816        3.858394   \n",
       "b4403         4.315972        4.195736        4.778053        3.612618   \n",
       "\n",
       "        PD_131_R9_S1_1  PD_131_R9_S2_1  \n",
       "Geneid                                  \n",
       "b0001        11.011117        9.842718  \n",
       "b0002         6.904192        6.912470  \n",
       "b0003         6.046817        7.946063  \n",
       "b0004         6.042058        7.986341  \n",
       "b0005         3.827429        4.334063  \n",
       "...                ...             ...  \n",
       "b4399         3.863476        4.016300  \n",
       "b4400         4.905311        4.755866  \n",
       "b4401         9.719481       10.093622  \n",
       "b4402         4.744738        4.577753  \n",
       "b4403         4.801908        4.053737  \n",
       "\n",
       "[4355 rows x 18 columns]"
      ]
     },
     "execution_count": 39,
     "metadata": {},
     "output_type": "execute_result"
    }
   ],
   "source": [
    "DF_log_tpm_passed_step2"
   ]
  },
  {
   "cell_type": "markdown",
   "metadata": {},
   "source": [
    "A clustermap is a great way to visualize the global correlations between one sample and all others. The ``global_clustering`` function uses hierarchical clustering to identify specific clusters in the clustermap. The optional arguments are:\n",
    "\n",
    "* ``threshold``: Threshold used to extract clusters from the hierarchy. To increase the number of clusters, decrease the value of ``threshold``. To decrease the number of clusters, increase the value of ``threshold`` (default: 0.3)\n",
    "* ``figsize``: A tuple describing the length and width of the final clustermap. A larger figsize can make x and y-axis labels clearer.\n",
    "* ``xticklabels``: Show NCBI SRA accession numbers on the x-axis\n",
    "* ``yticklabels``: Show NCBI SRA accession numbers on the y-axis"
   ]
  },
  {
   "cell_type": "code",
   "execution_count": 40,
   "metadata": {
    "tags": []
   },
   "outputs": [],
   "source": [
    "import scipy.cluster.hierarchy as sch\n",
    "import matplotlib.patches as patches\n",
    "\n",
    "def global_clustering(data, threshold=0.3, xticklabels=False, yticklabels=False, figsize=(9,9)):\n",
    "    \n",
    "    # Retrieve clusters using fcluster \n",
    "    corr = data.corr()\n",
    "    corr.fillna(0,inplace=True)\n",
    "    dist = sch.distance.pdist(corr)\n",
    "    link = sch.linkage(dist, method='complete')\n",
    "    clst = pd.DataFrame(index=data.columns)\n",
    "    clst['cluster'] = sch.fcluster(link, threshold * dist.max(), 'distance')\n",
    "\n",
    "    # Get colors for each cluster\n",
    "    cm = plt.cm.get_cmap('tab20')\n",
    "    cluster_colors = dict(zip(clst.cluster.unique(), cm.colors))\n",
    "    clst['color'] = clst.cluster.map(cluster_colors)\n",
    "\n",
    "    print('Number of cluster: ', len(cluster_colors))\n",
    "    \n",
    "    legend_items = [patches.Patch(color=c, label=l) for l,c in cluster_colors.items()]\n",
    "    \n",
    "    sns.set(rc={'figure.facecolor':'white'})\n",
    "    \n",
    "    clst_map = sns.clustermap(data.corr(), \n",
    "                              figsize=figsize, \n",
    "                              row_linkage=link, \n",
    "                              col_linkage=link, \n",
    "                              col_colors=clst.color,\n",
    "                              yticklabels=yticklabels, \n",
    "                              xticklabels=xticklabels,\n",
    "                              vmin=0, \n",
    "                              vmax=1)\n",
    "    \n",
    "    legend = clst_map.ax_heatmap.legend(loc='upper left', \n",
    "                                        bbox_to_anchor=(1.01,0.85), \n",
    "                                        handles=legend_items,\n",
    "                                        frameon=True)\n",
    "    \n",
    "    legend.set_title(title='Clusters',prop={'size':10})\n",
    "    \n",
    "    return clst['cluster']"
   ]
  },
  {
   "cell_type": "code",
   "execution_count": 41,
   "metadata": {
    "tags": []
   },
   "outputs": [
    {
     "name": "stderr",
     "output_type": "stream",
     "text": [
      "C:\\Users\\jonas\\AppData\\Local\\Temp\\ipykernel_5852\\3866276819.py:15: MatplotlibDeprecationWarning: The get_cmap function was deprecated in Matplotlib 3.7 and will be removed two minor releases later. Use ``matplotlib.colormaps[name]`` or ``matplotlib.colormaps.get_cmap(obj)`` instead.\n",
      "  cm = plt.cm.get_cmap('tab20')\n"
     ]
    },
    {
     "name": "stdout",
     "output_type": "stream",
     "text": [
      "Number of cluster:  2\n"
     ]
    },
    {
     "data": {
      "image/png": "[encoded data removed]",
      "text/plain": [
       "<Figure size 900x900 with 5 Axes>"
      ]
     },
     "metadata": {},
     "output_type": "display_data"
    }
   ],
   "source": [
    "clusters = global_clustering(DF_log_tpm_passed_step2)"
   ]
  },
  {
   "cell_type": "markdown",
   "metadata": {},
   "source": [
    "Select clusters to remove."
   ]
  },
  {
   "cell_type": "code",
   "execution_count": 42,
   "metadata": {
    "tags": []
   },
   "outputs": [],
   "source": [
    "remove_clusters = []\n",
    "passed_global_corr = clusters[~clusters.isin(remove_clusters)].index"
   ]
  },
  {
   "cell_type": "code",
   "execution_count": 43,
   "metadata": {
    "tags": []
   },
   "outputs": [
    {
     "data": {
      "text/plain": [
       "18"
      ]
     },
     "execution_count": 43,
     "metadata": {},
     "output_type": "execute_result"
    }
   ],
   "source": [
    "len(passed_global_corr)"
   ]
  },
  {
   "cell_type": "markdown",
   "metadata": {},
   "source": [
    "The following code can be adapted to see the NCBI SRA accession for samples in each cluster."
   ]
  },
  {
   "cell_type": "code",
   "execution_count": 47,
   "metadata": {
    "tags": []
   },
   "outputs": [
    {
     "data": {
      "text/plain": [
       "PD_131_R10_S1_1    2\n",
       "PD_131_R10_S2_1    2\n",
       "PD_131_R14_S1_1    2\n",
       "PD_131_R15_S1_1    2\n",
       "PD_131_R16_S1_1    2\n",
       "PD_131_R5_S1_1     2\n",
       "PD_131_R6_S1_1     2\n",
       "PD_131_R7_S1_1     2\n",
       "PD_131_R8_S1_1     2\n",
       "PD_131_R8_S2_1     2\n",
       "PD_131_R9_S1_1     2\n",
       "PD_131_R9_S2_1     2\n",
       "Name: cluster, dtype: int32"
      ]
     },
     "execution_count": 47,
     "metadata": {},
     "output_type": "execute_result"
    }
   ],
   "source": [
    "clusters[clusters == 2]"
   ]
  },
  {
   "cell_type": "markdown",
   "metadata": {},
   "source": [
    "Re-cluster samples to ensure all outliers were removed."
   ]
  },
  {
   "cell_type": "code",
   "execution_count": 48,
   "metadata": {
    "tags": []
   },
   "outputs": [],
   "source": [
    "DF_log_tpm_passed_step3 = DF_log_tpm[passed_global_corr]"
   ]
  },
  {
   "cell_type": "code",
   "execution_count": 49,
   "metadata": {
    "tags": []
   },
   "outputs": [
    {
     "name": "stderr",
     "output_type": "stream",
     "text": [
      "C:\\Users\\jonas\\AppData\\Local\\Temp\\ipykernel_5852\\3866276819.py:15: MatplotlibDeprecationWarning: The get_cmap function was deprecated in Matplotlib 3.7 and will be removed two minor releases later. Use ``matplotlib.colormaps[name]`` or ``matplotlib.colormaps.get_cmap(obj)`` instead.\n",
      "  cm = plt.cm.get_cmap('tab20')\n"
     ]
    },
    {
     "name": "stdout",
     "output_type": "stream",
     "text": [
      "Number of cluster:  2\n"
     ]
    },
    {
     "data": {
      "image/png": "[encoded data removed]",
      "text/plain": [
       "<Figure size 900x900 with 5 Axes>"
      ]
     },
     "metadata": {},
     "output_type": "display_data"
    }
   ],
   "source": [
    "clusters = global_clustering(DF_log_tpm_passed_step3)"
   ]
  },
  {
   "cell_type": "markdown",
   "metadata": {},
   "source": [
    "Once you are satisfied with your dataset, mark the samples that passed the global correlation"
   ]
  },
  {
   "cell_type": "code",
   "execution_count": 50,
   "metadata": {
    "tags": []
   },
   "outputs": [],
   "source": [
    "DF_metadata['passed_global_correlation'] = DF_metadata.index.isin(passed_global_corr)"
   ]
  },
  {
   "cell_type": "code",
   "execution_count": 51,
   "metadata": {
    "tags": []
   },
   "outputs": [
    {
     "data": {
      "text/html": [
       "<div>\n",
       "<style scoped>\n",
       "    .dataframe tbody tr th:only-of-type {\n",
       "        vertical-align: middle;\n",
       "    }\n",
       "\n",
       "    .dataframe tbody tr th {\n",
       "        vertical-align: top;\n",
       "    }\n",
       "\n",
       "    .dataframe thead th {\n",
       "        text-align: right;\n",
       "    }\n",
       "</style>\n",
       "<table border=\"1\" class=\"dataframe\">\n",
       "  <thead>\n",
       "    <tr style=\"text-align: right;\">\n",
       "      <th></th>\n",
       "      <th>LibraryLayout</th>\n",
       "      <th>Platform</th>\n",
       "      <th>Run</th>\n",
       "      <th>R1</th>\n",
       "      <th>R2</th>\n",
       "      <th>passed_fastqc</th>\n",
       "      <th>passed_reads_mapped_to_CDS</th>\n",
       "      <th>passed_global_correlation</th>\n",
       "    </tr>\n",
       "  </thead>\n",
       "  <tbody>\n",
       "    <tr>\n",
       "      <th>PD_131_R10_S1_1</th>\n",
       "      <td>PAIRED</td>\n",
       "      <td>DNBSEQ</td>\n",
       "      <td>NaN</td>\n",
       "      <td>PD_131_R10_S1_1.fq.gz</td>\n",
       "      <td>PD_131_R10_S1_2.fq.gz</td>\n",
       "      <td>True</td>\n",
       "      <td>True</td>\n",
       "      <td>True</td>\n",
       "    </tr>\n",
       "    <tr>\n",
       "      <th>PD_131_R10_S2_1</th>\n",
       "      <td>PAIRED</td>\n",
       "      <td>DNBSEQ</td>\n",
       "      <td>NaN</td>\n",
       "      <td>PD_131_R10_S2_1.fq.gz</td>\n",
       "      <td>PD_131_R10_S2_2.fq.gz</td>\n",
       "      <td>True</td>\n",
       "      <td>True</td>\n",
       "      <td>True</td>\n",
       "    </tr>\n",
       "    <tr>\n",
       "      <th>PD_131_R11_S1_1</th>\n",
       "      <td>PAIRED</td>\n",
       "      <td>DNBSEQ</td>\n",
       "      <td>NaN</td>\n",
       "      <td>PD_131_R11_S1_1.fq.gz</td>\n",
       "      <td>PD_131_R11_S1_2.fq.gz</td>\n",
       "      <td>True</td>\n",
       "      <td>True</td>\n",
       "      <td>True</td>\n",
       "    </tr>\n",
       "    <tr>\n",
       "      <th>PD_131_R11_S2_1</th>\n",
       "      <td>PAIRED</td>\n",
       "      <td>DNBSEQ</td>\n",
       "      <td>NaN</td>\n",
       "      <td>PD_131_R11_S2_1.fq.gz</td>\n",
       "      <td>PD_131_R11_S2_2.fq.gz</td>\n",
       "      <td>True</td>\n",
       "      <td>True</td>\n",
       "      <td>True</td>\n",
       "    </tr>\n",
       "    <tr>\n",
       "      <th>PD_131_R12_S1_1</th>\n",
       "      <td>PAIRED</td>\n",
       "      <td>DNBSEQ</td>\n",
       "      <td>NaN</td>\n",
       "      <td>PD_131_R12_S1_1.fq.gz</td>\n",
       "      <td>PD_131_R12_S1_2.fq.gz</td>\n",
       "      <td>True</td>\n",
       "      <td>True</td>\n",
       "      <td>True</td>\n",
       "    </tr>\n",
       "  </tbody>\n",
       "</table>\n",
       "</div>"
      ],
      "text/plain": [
       "                LibraryLayout Platform  Run                     R1  \\\n",
       "PD_131_R10_S1_1        PAIRED   DNBSEQ  NaN  PD_131_R10_S1_1.fq.gz   \n",
       "PD_131_R10_S2_1        PAIRED   DNBSEQ  NaN  PD_131_R10_S2_1.fq.gz   \n",
       "PD_131_R11_S1_1        PAIRED   DNBSEQ  NaN  PD_131_R11_S1_1.fq.gz   \n",
       "PD_131_R11_S2_1        PAIRED   DNBSEQ  NaN  PD_131_R11_S2_1.fq.gz   \n",
       "PD_131_R12_S1_1        PAIRED   DNBSEQ  NaN  PD_131_R12_S1_1.fq.gz   \n",
       "\n",
       "                                    R2  passed_fastqc  \\\n",
       "PD_131_R10_S1_1  PD_131_R10_S1_2.fq.gz           True   \n",
       "PD_131_R10_S2_1  PD_131_R10_S2_2.fq.gz           True   \n",
       "PD_131_R11_S1_1  PD_131_R11_S1_2.fq.gz           True   \n",
       "PD_131_R11_S2_1  PD_131_R11_S2_2.fq.gz           True   \n",
       "PD_131_R12_S1_1  PD_131_R12_S1_2.fq.gz           True   \n",
       "\n",
       "                 passed_reads_mapped_to_CDS  passed_global_correlation  \n",
       "PD_131_R10_S1_1                        True                       True  \n",
       "PD_131_R10_S2_1                        True                       True  \n",
       "PD_131_R11_S1_1                        True                       True  \n",
       "PD_131_R11_S2_1                        True                       True  \n",
       "PD_131_R12_S1_1                        True                       True  "
      ]
     },
     "execution_count": 51,
     "metadata": {},
     "output_type": "execute_result"
    }
   ],
   "source": [
    "DF_metadata.head()"
   ]
  },
  {
   "cell_type": "code",
   "execution_count": 52,
   "metadata": {
    "tags": []
   },
   "outputs": [
    {
     "data": {
      "text/html": [
       "<div>\n",
       "<style scoped>\n",
       "    .dataframe tbody tr th:only-of-type {\n",
       "        vertical-align: middle;\n",
       "    }\n",
       "\n",
       "    .dataframe tbody tr th {\n",
       "        vertical-align: top;\n",
       "    }\n",
       "\n",
       "    .dataframe thead th {\n",
       "        text-align: right;\n",
       "    }\n",
       "</style>\n",
       "<table border=\"1\" class=\"dataframe\">\n",
       "  <thead>\n",
       "    <tr style=\"text-align: right;\">\n",
       "      <th></th>\n",
       "      <th>LibraryLayout</th>\n",
       "      <th>Platform</th>\n",
       "      <th>Run</th>\n",
       "      <th>R1</th>\n",
       "      <th>R2</th>\n",
       "      <th>passed_fastqc</th>\n",
       "      <th>passed_reads_mapped_to_CDS</th>\n",
       "      <th>passed_global_correlation</th>\n",
       "    </tr>\n",
       "  </thead>\n",
       "  <tbody>\n",
       "    <tr>\n",
       "      <th>PD_131_R10_S1_1</th>\n",
       "      <td>PAIRED</td>\n",
       "      <td>DNBSEQ</td>\n",
       "      <td>NaN</td>\n",
       "      <td>PD_131_R10_S1_1.fq.gz</td>\n",
       "      <td>PD_131_R10_S1_2.fq.gz</td>\n",
       "      <td>True</td>\n",
       "      <td>True</td>\n",
       "      <td>True</td>\n",
       "    </tr>\n",
       "    <tr>\n",
       "      <th>PD_131_R10_S2_1</th>\n",
       "      <td>PAIRED</td>\n",
       "      <td>DNBSEQ</td>\n",
       "      <td>NaN</td>\n",
       "      <td>PD_131_R10_S2_1.fq.gz</td>\n",
       "      <td>PD_131_R10_S2_2.fq.gz</td>\n",
       "      <td>True</td>\n",
       "      <td>True</td>\n",
       "      <td>True</td>\n",
       "    </tr>\n",
       "    <tr>\n",
       "      <th>PD_131_R11_S1_1</th>\n",
       "      <td>PAIRED</td>\n",
       "      <td>DNBSEQ</td>\n",
       "      <td>NaN</td>\n",
       "      <td>PD_131_R11_S1_1.fq.gz</td>\n",
       "      <td>PD_131_R11_S1_2.fq.gz</td>\n",
       "      <td>True</td>\n",
       "      <td>True</td>\n",
       "      <td>True</td>\n",
       "    </tr>\n",
       "    <tr>\n",
       "      <th>PD_131_R11_S2_1</th>\n",
       "      <td>PAIRED</td>\n",
       "      <td>DNBSEQ</td>\n",
       "      <td>NaN</td>\n",
       "      <td>PD_131_R11_S2_1.fq.gz</td>\n",
       "      <td>PD_131_R11_S2_2.fq.gz</td>\n",
       "      <td>True</td>\n",
       "      <td>True</td>\n",
       "      <td>True</td>\n",
       "    </tr>\n",
       "    <tr>\n",
       "      <th>PD_131_R12_S1_1</th>\n",
       "      <td>PAIRED</td>\n",
       "      <td>DNBSEQ</td>\n",
       "      <td>NaN</td>\n",
       "      <td>PD_131_R12_S1_1.fq.gz</td>\n",
       "      <td>PD_131_R12_S1_2.fq.gz</td>\n",
       "      <td>True</td>\n",
       "      <td>True</td>\n",
       "      <td>True</td>\n",
       "    </tr>\n",
       "    <tr>\n",
       "      <th>PD_131_R12_S2_1</th>\n",
       "      <td>PAIRED</td>\n",
       "      <td>DNBSEQ</td>\n",
       "      <td>NaN</td>\n",
       "      <td>PD_131_R12_S2_1.fq.gz</td>\n",
       "      <td>PD_131_R12_S2_2.fq.gz</td>\n",
       "      <td>True</td>\n",
       "      <td>True</td>\n",
       "      <td>True</td>\n",
       "    </tr>\n",
       "    <tr>\n",
       "      <th>PD_131_R13_S1_1</th>\n",
       "      <td>PAIRED</td>\n",
       "      <td>DNBSEQ</td>\n",
       "      <td>NaN</td>\n",
       "      <td>PD_131_R13_S1_1.fq.gz</td>\n",
       "      <td>PD_131_R13_S1_2.fq.gz</td>\n",
       "      <td>True</td>\n",
       "      <td>True</td>\n",
       "      <td>True</td>\n",
       "    </tr>\n",
       "    <tr>\n",
       "      <th>PD_131_R13_S2_1</th>\n",
       "      <td>PAIRED</td>\n",
       "      <td>DNBSEQ</td>\n",
       "      <td>NaN</td>\n",
       "      <td>PD_131_R13_S2_1.fq.gz</td>\n",
       "      <td>PD_131_R13_S2_2.fq.gz</td>\n",
       "      <td>True</td>\n",
       "      <td>True</td>\n",
       "      <td>True</td>\n",
       "    </tr>\n",
       "    <tr>\n",
       "      <th>PD_131_R14_S1_1</th>\n",
       "      <td>PAIRED</td>\n",
       "      <td>DNBSEQ</td>\n",
       "      <td>NaN</td>\n",
       "      <td>PD_131_R14_S1_1.fq.gz</td>\n",
       "      <td>PD_131_R14_S1_2.fq.gz</td>\n",
       "      <td>True</td>\n",
       "      <td>True</td>\n",
       "      <td>True</td>\n",
       "    </tr>\n",
       "    <tr>\n",
       "      <th>PD_131_R15_S1_1</th>\n",
       "      <td>PAIRED</td>\n",
       "      <td>DNBSEQ</td>\n",
       "      <td>NaN</td>\n",
       "      <td>PD_131_R15_S1_1.fq.gz</td>\n",
       "      <td>PD_131_R15_S1_2.fq.gz</td>\n",
       "      <td>True</td>\n",
       "      <td>True</td>\n",
       "      <td>True</td>\n",
       "    </tr>\n",
       "    <tr>\n",
       "      <th>PD_131_R16_S1_1</th>\n",
       "      <td>PAIRED</td>\n",
       "      <td>DNBSEQ</td>\n",
       "      <td>NaN</td>\n",
       "      <td>PD_131_R16_S1_1.fq.gz</td>\n",
       "      <td>PD_131_R16_S1_2.fq.gz</td>\n",
       "      <td>True</td>\n",
       "      <td>True</td>\n",
       "      <td>True</td>\n",
       "    </tr>\n",
       "    <tr>\n",
       "      <th>PD_131_R5_S1_1</th>\n",
       "      <td>PAIRED</td>\n",
       "      <td>DNBSEQ</td>\n",
       "      <td>NaN</td>\n",
       "      <td>PD_131_R5_S1_1.fq.gz</td>\n",
       "      <td>PD_131_R5_S1_2.fq.gz</td>\n",
       "      <td>True</td>\n",
       "      <td>True</td>\n",
       "      <td>True</td>\n",
       "    </tr>\n",
       "    <tr>\n",
       "      <th>PD_131_R6_S1_1</th>\n",
       "      <td>PAIRED</td>\n",
       "      <td>DNBSEQ</td>\n",
       "      <td>NaN</td>\n",
       "      <td>PD_131_R6_S1_1.fq.gz</td>\n",
       "      <td>PD_131_R6_S1_2.fq.gz</td>\n",
       "      <td>True</td>\n",
       "      <td>True</td>\n",
       "      <td>True</td>\n",
       "    </tr>\n",
       "    <tr>\n",
       "      <th>PD_131_R7_S1_1</th>\n",
       "      <td>PAIRED</td>\n",
       "      <td>DNBSEQ</td>\n",
       "      <td>NaN</td>\n",
       "      <td>PD_131_R7_S1_1.fq.gz</td>\n",
       "      <td>PD_131_R7_S1_2.fq.gz</td>\n",
       "      <td>True</td>\n",
       "      <td>True</td>\n",
       "      <td>True</td>\n",
       "    </tr>\n",
       "    <tr>\n",
       "      <th>PD_131_R8_S1_1</th>\n",
       "      <td>PAIRED</td>\n",
       "      <td>DNBSEQ</td>\n",
       "      <td>NaN</td>\n",
       "      <td>PD_131_R8_S1_1.fq.gz</td>\n",
       "      <td>PD_131_R8_S1_2.fq.gz</td>\n",
       "      <td>True</td>\n",
       "      <td>True</td>\n",
       "      <td>True</td>\n",
       "    </tr>\n",
       "    <tr>\n",
       "      <th>PD_131_R8_S2_1</th>\n",
       "      <td>PAIRED</td>\n",
       "      <td>DNBSEQ</td>\n",
       "      <td>NaN</td>\n",
       "      <td>PD_131_R8_S2_1.fq.gz</td>\n",
       "      <td>PD_131_R8_S2_2.fq.gz</td>\n",
       "      <td>True</td>\n",
       "      <td>True</td>\n",
       "      <td>True</td>\n",
       "    </tr>\n",
       "    <tr>\n",
       "      <th>PD_131_R9_S1_1</th>\n",
       "      <td>PAIRED</td>\n",
       "      <td>DNBSEQ</td>\n",
       "      <td>NaN</td>\n",
       "      <td>PD_131_R9_S1_1.fq.gz</td>\n",
       "      <td>PD_131_R9_S1_2.fq.gz</td>\n",
       "      <td>True</td>\n",
       "      <td>True</td>\n",
       "      <td>True</td>\n",
       "    </tr>\n",
       "    <tr>\n",
       "      <th>PD_131_R9_S2_1</th>\n",
       "      <td>PAIRED</td>\n",
       "      <td>DNBSEQ</td>\n",
       "      <td>NaN</td>\n",
       "      <td>PD_131_R9_S2_1.fq.gz</td>\n",
       "      <td>PD_131_R9_S2_2.fq.gz</td>\n",
       "      <td>True</td>\n",
       "      <td>True</td>\n",
       "      <td>True</td>\n",
       "    </tr>\n",
       "  </tbody>\n",
       "</table>\n",
       "</div>"
      ],
      "text/plain": [
       "                LibraryLayout Platform  Run                     R1  \\\n",
       "PD_131_R10_S1_1        PAIRED   DNBSEQ  NaN  PD_131_R10_S1_1.fq.gz   \n",
       "PD_131_R10_S2_1        PAIRED   DNBSEQ  NaN  PD_131_R10_S2_1.fq.gz   \n",
       "PD_131_R11_S1_1        PAIRED   DNBSEQ  NaN  PD_131_R11_S1_1.fq.gz   \n",
       "PD_131_R11_S2_1        PAIRED   DNBSEQ  NaN  PD_131_R11_S2_1.fq.gz   \n",
       "PD_131_R12_S1_1        PAIRED   DNBSEQ  NaN  PD_131_R12_S1_1.fq.gz   \n",
       "PD_131_R12_S2_1        PAIRED   DNBSEQ  NaN  PD_131_R12_S2_1.fq.gz   \n",
       "PD_131_R13_S1_1        PAIRED   DNBSEQ  NaN  PD_131_R13_S1_1.fq.gz   \n",
       "PD_131_R13_S2_1        PAIRED   DNBSEQ  NaN  PD_131_R13_S2_1.fq.gz   \n",
       "PD_131_R14_S1_1        PAIRED   DNBSEQ  NaN  PD_131_R14_S1_1.fq.gz   \n",
       "PD_131_R15_S1_1        PAIRED   DNBSEQ  NaN  PD_131_R15_S1_1.fq.gz   \n",
       "PD_131_R16_S1_1        PAIRED   DNBSEQ  NaN  PD_131_R16_S1_1.fq.gz   \n",
       "PD_131_R5_S1_1         PAIRED   DNBSEQ  NaN   PD_131_R5_S1_1.fq.gz   \n",
       "PD_131_R6_S1_1         PAIRED   DNBSEQ  NaN   PD_131_R6_S1_1.fq.gz   \n",
       "PD_131_R7_S1_1         PAIRED   DNBSEQ  NaN   PD_131_R7_S1_1.fq.gz   \n",
       "PD_131_R8_S1_1         PAIRED   DNBSEQ  NaN   PD_131_R8_S1_1.fq.gz   \n",
       "PD_131_R8_S2_1         PAIRED   DNBSEQ  NaN   PD_131_R8_S2_1.fq.gz   \n",
       "PD_131_R9_S1_1         PAIRED   DNBSEQ  NaN   PD_131_R9_S1_1.fq.gz   \n",
       "PD_131_R9_S2_1         PAIRED   DNBSEQ  NaN   PD_131_R9_S2_1.fq.gz   \n",
       "\n",
       "                                    R2  passed_fastqc  \\\n",
       "PD_131_R10_S1_1  PD_131_R10_S1_2.fq.gz           True   \n",
       "PD_131_R10_S2_1  PD_131_R10_S2_2.fq.gz           True   \n",
       "PD_131_R11_S1_1  PD_131_R11_S1_2.fq.gz           True   \n",
       "PD_131_R11_S2_1  PD_131_R11_S2_2.fq.gz           True   \n",
       "PD_131_R12_S1_1  PD_131_R12_S1_2.fq.gz           True   \n",
       "PD_131_R12_S2_1  PD_131_R12_S2_2.fq.gz           True   \n",
       "PD_131_R13_S1_1  PD_131_R13_S1_2.fq.gz           True   \n",
       "PD_131_R13_S2_1  PD_131_R13_S2_2.fq.gz           True   \n",
       "PD_131_R14_S1_1  PD_131_R14_S1_2.fq.gz           True   \n",
       "PD_131_R15_S1_1  PD_131_R15_S1_2.fq.gz           True   \n",
       "PD_131_R16_S1_1  PD_131_R16_S1_2.fq.gz           True   \n",
       "PD_131_R5_S1_1    PD_131_R5_S1_2.fq.gz           True   \n",
       "PD_131_R6_S1_1    PD_131_R6_S1_2.fq.gz           True   \n",
       "PD_131_R7_S1_1    PD_131_R7_S1_2.fq.gz           True   \n",
       "PD_131_R8_S1_1    PD_131_R8_S1_2.fq.gz           True   \n",
       "PD_131_R8_S2_1    PD_131_R8_S2_2.fq.gz           True   \n",
       "PD_131_R9_S1_1    PD_131_R9_S1_2.fq.gz           True   \n",
       "PD_131_R9_S2_1    PD_131_R9_S2_2.fq.gz           True   \n",
       "\n",
       "                 passed_reads_mapped_to_CDS  passed_global_correlation  \n",
       "PD_131_R10_S1_1                        True                       True  \n",
       "PD_131_R10_S2_1                        True                       True  \n",
       "PD_131_R11_S1_1                        True                       True  \n",
       "PD_131_R11_S2_1                        True                       True  \n",
       "PD_131_R12_S1_1                        True                       True  \n",
       "PD_131_R12_S2_1                        True                       True  \n",
       "PD_131_R13_S1_1                        True                       True  \n",
       "PD_131_R13_S2_1                        True                       True  \n",
       "PD_131_R14_S1_1                        True                       True  \n",
       "PD_131_R15_S1_1                        True                       True  \n",
       "PD_131_R16_S1_1                        True                       True  \n",
       "PD_131_R5_S1_1                         True                       True  \n",
       "PD_131_R6_S1_1                         True                       True  \n",
       "PD_131_R7_S1_1                         True                       True  \n",
       "PD_131_R8_S1_1                         True                       True  \n",
       "PD_131_R8_S2_1                         True                       True  \n",
       "PD_131_R9_S1_1                         True                       True  \n",
       "PD_131_R9_S2_1                         True                       True  "
      ]
     },
     "execution_count": 52,
     "metadata": {},
     "output_type": "execute_result"
    }
   ],
   "source": [
    "DF_metadata"
   ]
  },
  {
   "cell_type": "markdown",
   "metadata": {},
   "source": [
    "# Remove failed samples"
   ]
  },
  {
   "cell_type": "code",
   "execution_count": 53,
   "metadata": {
    "tags": []
   },
   "outputs": [],
   "source": [
    "qc_columns = ['passed_fastqc',\n",
    "              'passed_reads_mapped_to_CDS',\n",
    "              'passed_global_correlation']"
   ]
  },
  {
   "cell_type": "code",
   "execution_count": 54,
   "metadata": {
    "tags": []
   },
   "outputs": [],
   "source": [
    "pass_qc = DF_metadata[qc_columns].all(axis=1)\n",
    "DF_metadata_passed = DF_metadata[pass_qc]"
   ]
  },
  {
   "cell_type": "code",
   "execution_count": 55,
   "metadata": {
    "tags": []
   },
   "outputs": [
    {
     "data": {
      "text/plain": [
       "PD_131_R10_S1_1    True\n",
       "PD_131_R10_S2_1    True\n",
       "PD_131_R11_S1_1    True\n",
       "PD_131_R11_S2_1    True\n",
       "PD_131_R12_S1_1    True\n",
       "PD_131_R12_S2_1    True\n",
       "PD_131_R13_S1_1    True\n",
       "PD_131_R13_S2_1    True\n",
       "PD_131_R14_S1_1    True\n",
       "PD_131_R15_S1_1    True\n",
       "PD_131_R16_S1_1    True\n",
       "PD_131_R5_S1_1     True\n",
       "PD_131_R6_S1_1     True\n",
       "PD_131_R7_S1_1     True\n",
       "PD_131_R8_S1_1     True\n",
       "PD_131_R8_S2_1     True\n",
       "PD_131_R9_S1_1     True\n",
       "PD_131_R9_S2_1     True\n",
       "dtype: bool"
      ]
     },
     "execution_count": 55,
     "metadata": {},
     "output_type": "execute_result"
    }
   ],
   "source": [
    "pass_qc"
   ]
  },
  {
   "cell_type": "code",
   "execution_count": 56,
   "metadata": {
    "collapsed": true,
    "jupyter": {
     "outputs_hidden": true
    },
    "tags": []
   },
   "outputs": [
    {
     "ename": "ValueError",
     "evalue": "cannot convert float NaN to integer",
     "output_type": "error",
     "traceback": [
      "\u001b[1;31m---------------------------------------------------------------------------\u001b[0m",
      "\u001b[1;31mValueError\u001b[0m                                Traceback (most recent call last)",
      "Cell \u001b[1;32mIn[56], line 1\u001b[0m\n\u001b[1;32m----> 1\u001b[0m _,_,pcts \u001b[38;5;241m=\u001b[39m \u001b[43mplt\u001b[49m\u001b[38;5;241;43m.\u001b[39;49m\u001b[43mpie\u001b[49m\u001b[43m(\u001b[49m\u001b[43mpass_qc\u001b[49m\u001b[38;5;241;43m.\u001b[39;49m\u001b[43mvalue_counts\u001b[49m\u001b[43m(\u001b[49m\u001b[43m)\u001b[49m\u001b[38;5;241;43m.\u001b[39;49m\u001b[43mreindex\u001b[49m\u001b[43m(\u001b[49m\u001b[43m[\u001b[49m\u001b[38;5;28;43;01mFalse\u001b[39;49;00m\u001b[43m,\u001b[49m\u001b[38;5;28;43;01mTrue\u001b[39;49;00m\u001b[43m]\u001b[49m\u001b[43m)\u001b[49m\u001b[43m,\u001b[49m\n\u001b[0;32m      2\u001b[0m \u001b[43m        \u001b[49m\u001b[43mlabels\u001b[49m\u001b[43m \u001b[49m\u001b[38;5;241;43m=\u001b[39;49m\u001b[43m \u001b[49m\u001b[43m[\u001b[49m\u001b[38;5;124;43m'\u001b[39;49m\u001b[38;5;124;43mFailed\u001b[39;49m\u001b[38;5;124;43m'\u001b[39;49m\u001b[43m,\u001b[49m\u001b[38;5;124;43m'\u001b[39;49m\u001b[38;5;124;43mPassed\u001b[39;49m\u001b[38;5;124;43m'\u001b[39;49m\u001b[43m]\u001b[49m\u001b[43m,\u001b[49m\n\u001b[0;32m      3\u001b[0m \u001b[43m        \u001b[49m\u001b[43mcolors\u001b[49m\u001b[38;5;241;43m=\u001b[39;49m\u001b[43m[\u001b[49m\u001b[38;5;124;43m'\u001b[39;49m\u001b[38;5;124;43mtab:red\u001b[39;49m\u001b[38;5;124;43m'\u001b[39;49m\u001b[43m,\u001b[49m\u001b[38;5;124;43m'\u001b[39;49m\u001b[38;5;124;43mtab:blue\u001b[39;49m\u001b[38;5;124;43m'\u001b[39;49m\u001b[43m]\u001b[49m\u001b[43m,\u001b[49m\n\u001b[0;32m      4\u001b[0m \u001b[43m        \u001b[49m\u001b[43mautopct\u001b[49m\u001b[38;5;241;43m=\u001b[39;49m\u001b[38;5;124;43m'\u001b[39;49m\u001b[38;5;132;43;01m%.0f\u001b[39;49;00m\u001b[38;5;132;43;01m%%\u001b[39;49;00m\u001b[38;5;124;43m'\u001b[39;49m\u001b[43m,\u001b[49m\u001b[43mtextprops\u001b[49m\u001b[38;5;241;43m=\u001b[39;49m\u001b[43m{\u001b[49m\u001b[38;5;124;43m'\u001b[39;49m\u001b[38;5;124;43msize\u001b[39;49m\u001b[38;5;124;43m'\u001b[39;49m\u001b[43m:\u001b[49m\u001b[38;5;241;43m16\u001b[39;49m\u001b[43m}\u001b[49m\u001b[43m)\u001b[49m;\n\u001b[0;32m      6\u001b[0m \u001b[38;5;66;03m# Colors percents white\u001b[39;00m\n\u001b[0;32m      7\u001b[0m \u001b[38;5;28;01mfor\u001b[39;00m pct \u001b[38;5;129;01min\u001b[39;00m pcts:\n",
      "File \u001b[1;32m~\\anaconda3\\lib\\site-packages\\matplotlib\\pyplot.py:2799\u001b[0m, in \u001b[0;36mpie\u001b[1;34m(x, explode, labels, colors, autopct, pctdistance, shadow, labeldistance, startangle, radius, counterclock, wedgeprops, textprops, center, frame, rotatelabels, normalize, hatch, data)\u001b[0m\n\u001b[0;32m   2792\u001b[0m \u001b[38;5;129m@_copy_docstring_and_deprecators\u001b[39m(Axes\u001b[38;5;241m.\u001b[39mpie)\n\u001b[0;32m   2793\u001b[0m \u001b[38;5;28;01mdef\u001b[39;00m \u001b[38;5;21mpie\u001b[39m(\n\u001b[0;32m   2794\u001b[0m         x, explode\u001b[38;5;241m=\u001b[39m\u001b[38;5;28;01mNone\u001b[39;00m, labels\u001b[38;5;241m=\u001b[39m\u001b[38;5;28;01mNone\u001b[39;00m, colors\u001b[38;5;241m=\u001b[39m\u001b[38;5;28;01mNone\u001b[39;00m, autopct\u001b[38;5;241m=\u001b[39m\u001b[38;5;28;01mNone\u001b[39;00m,\n\u001b[1;32m   (...)\u001b[0m\n\u001b[0;32m   2797\u001b[0m         textprops\u001b[38;5;241m=\u001b[39m\u001b[38;5;28;01mNone\u001b[39;00m, center\u001b[38;5;241m=\u001b[39m(\u001b[38;5;241m0\u001b[39m, \u001b[38;5;241m0\u001b[39m), frame\u001b[38;5;241m=\u001b[39m\u001b[38;5;28;01mFalse\u001b[39;00m,\n\u001b[0;32m   2798\u001b[0m         rotatelabels\u001b[38;5;241m=\u001b[39m\u001b[38;5;28;01mFalse\u001b[39;00m, \u001b[38;5;241m*\u001b[39m, normalize\u001b[38;5;241m=\u001b[39m\u001b[38;5;28;01mTrue\u001b[39;00m, hatch\u001b[38;5;241m=\u001b[39m\u001b[38;5;28;01mNone\u001b[39;00m, data\u001b[38;5;241m=\u001b[39m\u001b[38;5;28;01mNone\u001b[39;00m):\n\u001b[1;32m-> 2799\u001b[0m     \u001b[38;5;28;01mreturn\u001b[39;00m gca()\u001b[38;5;241m.\u001b[39mpie(\n\u001b[0;32m   2800\u001b[0m         x, explode\u001b[38;5;241m=\u001b[39mexplode, labels\u001b[38;5;241m=\u001b[39mlabels, colors\u001b[38;5;241m=\u001b[39mcolors,\n\u001b[0;32m   2801\u001b[0m         autopct\u001b[38;5;241m=\u001b[39mautopct, pctdistance\u001b[38;5;241m=\u001b[39mpctdistance, shadow\u001b[38;5;241m=\u001b[39mshadow,\n\u001b[0;32m   2802\u001b[0m         labeldistance\u001b[38;5;241m=\u001b[39mlabeldistance, startangle\u001b[38;5;241m=\u001b[39mstartangle,\n\u001b[0;32m   2803\u001b[0m         radius\u001b[38;5;241m=\u001b[39mradius, counterclock\u001b[38;5;241m=\u001b[39mcounterclock,\n\u001b[0;32m   2804\u001b[0m         wedgeprops\u001b[38;5;241m=\u001b[39mwedgeprops, textprops\u001b[38;5;241m=\u001b[39mtextprops, center\u001b[38;5;241m=\u001b[39mcenter,\n\u001b[0;32m   2805\u001b[0m         frame\u001b[38;5;241m=\u001b[39mframe, rotatelabels\u001b[38;5;241m=\u001b[39mrotatelabels, normalize\u001b[38;5;241m=\u001b[39mnormalize,\n\u001b[0;32m   2806\u001b[0m         hatch\u001b[38;5;241m=\u001b[39mhatch, \u001b[38;5;241m*\u001b[39m\u001b[38;5;241m*\u001b[39m({\u001b[38;5;124m\"\u001b[39m\u001b[38;5;124mdata\u001b[39m\u001b[38;5;124m\"\u001b[39m: data} \u001b[38;5;28;01mif\u001b[39;00m data \u001b[38;5;129;01mis\u001b[39;00m \u001b[38;5;129;01mnot\u001b[39;00m \u001b[38;5;28;01mNone\u001b[39;00m \u001b[38;5;28;01melse\u001b[39;00m {}))\n",
      "File \u001b[1;32m~\\anaconda3\\lib\\site-packages\\matplotlib\\__init__.py:1446\u001b[0m, in \u001b[0;36m_preprocess_data.<locals>.inner\u001b[1;34m(ax, data, *args, **kwargs)\u001b[0m\n\u001b[0;32m   1443\u001b[0m \u001b[38;5;129m@functools\u001b[39m\u001b[38;5;241m.\u001b[39mwraps(func)\n\u001b[0;32m   1444\u001b[0m \u001b[38;5;28;01mdef\u001b[39;00m \u001b[38;5;21minner\u001b[39m(ax, \u001b[38;5;241m*\u001b[39margs, data\u001b[38;5;241m=\u001b[39m\u001b[38;5;28;01mNone\u001b[39;00m, \u001b[38;5;241m*\u001b[39m\u001b[38;5;241m*\u001b[39mkwargs):\n\u001b[0;32m   1445\u001b[0m     \u001b[38;5;28;01mif\u001b[39;00m data \u001b[38;5;129;01mis\u001b[39;00m \u001b[38;5;28;01mNone\u001b[39;00m:\n\u001b[1;32m-> 1446\u001b[0m         \u001b[38;5;28;01mreturn\u001b[39;00m func(ax, \u001b[38;5;241m*\u001b[39m\u001b[38;5;28mmap\u001b[39m(sanitize_sequence, args), \u001b[38;5;241m*\u001b[39m\u001b[38;5;241m*\u001b[39mkwargs)\n\u001b[0;32m   1448\u001b[0m     bound \u001b[38;5;241m=\u001b[39m new_sig\u001b[38;5;241m.\u001b[39mbind(ax, \u001b[38;5;241m*\u001b[39margs, \u001b[38;5;241m*\u001b[39m\u001b[38;5;241m*\u001b[39mkwargs)\n\u001b[0;32m   1449\u001b[0m     auto_label \u001b[38;5;241m=\u001b[39m (bound\u001b[38;5;241m.\u001b[39marguments\u001b[38;5;241m.\u001b[39mget(label_namer)\n\u001b[0;32m   1450\u001b[0m                   \u001b[38;5;129;01mor\u001b[39;00m bound\u001b[38;5;241m.\u001b[39mkwargs\u001b[38;5;241m.\u001b[39mget(label_namer))\n",
      "File \u001b[1;32m~\\anaconda3\\lib\\site-packages\\matplotlib\\axes\\_axes.py:3237\u001b[0m, in \u001b[0;36mAxes.pie\u001b[1;34m(self, x, explode, labels, colors, autopct, pctdistance, shadow, labeldistance, startangle, radius, counterclock, wedgeprops, textprops, center, frame, rotatelabels, normalize, hatch)\u001b[0m\n\u001b[0;32m   3234\u001b[0m x \u001b[38;5;241m+\u001b[39m\u001b[38;5;241m=\u001b[39m expl \u001b[38;5;241m*\u001b[39m math\u001b[38;5;241m.\u001b[39mcos(thetam)\n\u001b[0;32m   3235\u001b[0m y \u001b[38;5;241m+\u001b[39m\u001b[38;5;241m=\u001b[39m expl \u001b[38;5;241m*\u001b[39m math\u001b[38;5;241m.\u001b[39msin(thetam)\n\u001b[1;32m-> 3237\u001b[0m w \u001b[38;5;241m=\u001b[39m \u001b[43mmpatches\u001b[49m\u001b[38;5;241;43m.\u001b[39;49m\u001b[43mWedge\u001b[49m\u001b[43m(\u001b[49m\u001b[43m(\u001b[49m\u001b[43mx\u001b[49m\u001b[43m,\u001b[49m\u001b[43m \u001b[49m\u001b[43my\u001b[49m\u001b[43m)\u001b[49m\u001b[43m,\u001b[49m\u001b[43m \u001b[49m\u001b[43mradius\u001b[49m\u001b[43m,\u001b[49m\u001b[43m \u001b[49m\u001b[38;5;241;43m360.\u001b[39;49m\u001b[43m \u001b[49m\u001b[38;5;241;43m*\u001b[39;49m\u001b[43m \u001b[49m\u001b[38;5;28;43mmin\u001b[39;49m\u001b[43m(\u001b[49m\u001b[43mtheta1\u001b[49m\u001b[43m,\u001b[49m\u001b[43m \u001b[49m\u001b[43mtheta2\u001b[49m\u001b[43m)\u001b[49m\u001b[43m,\u001b[49m\n\u001b[0;32m   3238\u001b[0m \u001b[43m                   \u001b[49m\u001b[38;5;241;43m360.\u001b[39;49m\u001b[43m \u001b[49m\u001b[38;5;241;43m*\u001b[39;49m\u001b[43m \u001b[49m\u001b[38;5;28;43mmax\u001b[39;49m\u001b[43m(\u001b[49m\u001b[43mtheta1\u001b[49m\u001b[43m,\u001b[49m\u001b[43m \u001b[49m\u001b[43mtheta2\u001b[49m\u001b[43m)\u001b[49m\u001b[43m,\u001b[49m\n\u001b[0;32m   3239\u001b[0m \u001b[43m                   \u001b[49m\u001b[43mfacecolor\u001b[49m\u001b[38;5;241;43m=\u001b[39;49m\u001b[43mget_next_color\u001b[49m\u001b[43m(\u001b[49m\u001b[43m)\u001b[49m\u001b[43m,\u001b[49m\n\u001b[0;32m   3240\u001b[0m \u001b[43m                   \u001b[49m\u001b[43mhatch\u001b[49m\u001b[38;5;241;43m=\u001b[39;49m\u001b[38;5;28;43mnext\u001b[39;49m\u001b[43m(\u001b[49m\u001b[43mhatch_cycle\u001b[49m\u001b[43m)\u001b[49m\u001b[43m,\u001b[49m\n\u001b[0;32m   3241\u001b[0m \u001b[43m                   \u001b[49m\u001b[43mclip_on\u001b[49m\u001b[38;5;241;43m=\u001b[39;49m\u001b[38;5;28;43;01mFalse\u001b[39;49;00m\u001b[43m,\u001b[49m\n\u001b[0;32m   3242\u001b[0m \u001b[43m                   \u001b[49m\u001b[43mlabel\u001b[49m\u001b[38;5;241;43m=\u001b[39;49m\u001b[43mlabel\u001b[49m\u001b[43m)\u001b[49m\n\u001b[0;32m   3243\u001b[0m w\u001b[38;5;241m.\u001b[39mset(\u001b[38;5;241m*\u001b[39m\u001b[38;5;241m*\u001b[39mwedgeprops)\n\u001b[0;32m   3244\u001b[0m slices\u001b[38;5;241m.\u001b[39mappend(w)\n",
      "File \u001b[1;32m~\\anaconda3\\lib\\site-packages\\matplotlib\\_api\\deprecation.py:454\u001b[0m, in \u001b[0;36mmake_keyword_only.<locals>.wrapper\u001b[1;34m(*args, **kwargs)\u001b[0m\n\u001b[0;32m    448\u001b[0m \u001b[38;5;28;01mif\u001b[39;00m \u001b[38;5;28mlen\u001b[39m(args) \u001b[38;5;241m>\u001b[39m name_idx:\n\u001b[0;32m    449\u001b[0m     warn_deprecated(\n\u001b[0;32m    450\u001b[0m         since, message\u001b[38;5;241m=\u001b[39m\u001b[38;5;124m\"\u001b[39m\u001b[38;5;124mPassing the \u001b[39m\u001b[38;5;132;01m%(name)s\u001b[39;00m\u001b[38;5;124m \u001b[39m\u001b[38;5;132;01m%(obj_type)s\u001b[39;00m\u001b[38;5;124m \u001b[39m\u001b[38;5;124m\"\u001b[39m\n\u001b[0;32m    451\u001b[0m         \u001b[38;5;124m\"\u001b[39m\u001b[38;5;124mpositionally is deprecated since Matplotlib \u001b[39m\u001b[38;5;132;01m%(since)s\u001b[39;00m\u001b[38;5;124m; the \u001b[39m\u001b[38;5;124m\"\u001b[39m\n\u001b[0;32m    452\u001b[0m         \u001b[38;5;124m\"\u001b[39m\u001b[38;5;124mparameter will become keyword-only \u001b[39m\u001b[38;5;132;01m%(removal)s\u001b[39;00m\u001b[38;5;124m.\u001b[39m\u001b[38;5;124m\"\u001b[39m,\n\u001b[0;32m    453\u001b[0m         name\u001b[38;5;241m=\u001b[39mname, obj_type\u001b[38;5;241m=\u001b[39m\u001b[38;5;124mf\u001b[39m\u001b[38;5;124m\"\u001b[39m\u001b[38;5;124mparameter of \u001b[39m\u001b[38;5;132;01m{\u001b[39;00mfunc\u001b[38;5;241m.\u001b[39m\u001b[38;5;18m__name__\u001b[39m\u001b[38;5;132;01m}\u001b[39;00m\u001b[38;5;124m()\u001b[39m\u001b[38;5;124m\"\u001b[39m)\n\u001b[1;32m--> 454\u001b[0m \u001b[38;5;28;01mreturn\u001b[39;00m func(\u001b[38;5;241m*\u001b[39margs, \u001b[38;5;241m*\u001b[39m\u001b[38;5;241m*\u001b[39mkwargs)\n",
      "File \u001b[1;32m~\\anaconda3\\lib\\site-packages\\matplotlib\\patches.py:1195\u001b[0m, in \u001b[0;36mWedge.__init__\u001b[1;34m(self, center, r, theta1, theta2, width, **kwargs)\u001b[0m\n\u001b[0;32m   1193\u001b[0m \u001b[38;5;28mself\u001b[39m\u001b[38;5;241m.\u001b[39mtheta1, \u001b[38;5;28mself\u001b[39m\u001b[38;5;241m.\u001b[39mtheta2 \u001b[38;5;241m=\u001b[39m theta1, theta2\n\u001b[0;32m   1194\u001b[0m \u001b[38;5;28mself\u001b[39m\u001b[38;5;241m.\u001b[39m_patch_transform \u001b[38;5;241m=\u001b[39m transforms\u001b[38;5;241m.\u001b[39mIdentityTransform()\n\u001b[1;32m-> 1195\u001b[0m \u001b[38;5;28;43mself\u001b[39;49m\u001b[38;5;241;43m.\u001b[39;49m\u001b[43m_recompute_path\u001b[49m\u001b[43m(\u001b[49m\u001b[43m)\u001b[49m\n",
      "File \u001b[1;32m~\\anaconda3\\lib\\site-packages\\matplotlib\\patches.py:1207\u001b[0m, in \u001b[0;36mWedge._recompute_path\u001b[1;34m(self)\u001b[0m\n\u001b[0;32m   1204\u001b[0m     connector \u001b[38;5;241m=\u001b[39m Path\u001b[38;5;241m.\u001b[39mLINETO\n\u001b[0;32m   1206\u001b[0m \u001b[38;5;66;03m# Form the outer ring\u001b[39;00m\n\u001b[1;32m-> 1207\u001b[0m arc \u001b[38;5;241m=\u001b[39m \u001b[43mPath\u001b[49m\u001b[38;5;241;43m.\u001b[39;49m\u001b[43marc\u001b[49m\u001b[43m(\u001b[49m\u001b[43mtheta1\u001b[49m\u001b[43m,\u001b[49m\u001b[43m \u001b[49m\u001b[43mtheta2\u001b[49m\u001b[43m)\u001b[49m\n\u001b[0;32m   1209\u001b[0m \u001b[38;5;28;01mif\u001b[39;00m \u001b[38;5;28mself\u001b[39m\u001b[38;5;241m.\u001b[39mwidth \u001b[38;5;129;01mis\u001b[39;00m \u001b[38;5;129;01mnot\u001b[39;00m \u001b[38;5;28;01mNone\u001b[39;00m:\n\u001b[0;32m   1210\u001b[0m     \u001b[38;5;66;03m# Partial annulus needs to draw the outer ring\u001b[39;00m\n\u001b[0;32m   1211\u001b[0m     \u001b[38;5;66;03m# followed by a reversed and scaled inner ring\u001b[39;00m\n\u001b[0;32m   1212\u001b[0m     v1 \u001b[38;5;241m=\u001b[39m arc\u001b[38;5;241m.\u001b[39mvertices\n",
      "File \u001b[1;32m~\\anaconda3\\lib\\site-packages\\matplotlib\\path.py:954\u001b[0m, in \u001b[0;36mPath.arc\u001b[1;34m(cls, theta1, theta2, n, is_wedge)\u001b[0m\n\u001b[0;32m    952\u001b[0m \u001b[38;5;66;03m# number of curve segments to make\u001b[39;00m\n\u001b[0;32m    953\u001b[0m \u001b[38;5;28;01mif\u001b[39;00m n \u001b[38;5;129;01mis\u001b[39;00m \u001b[38;5;28;01mNone\u001b[39;00m:\n\u001b[1;32m--> 954\u001b[0m     n \u001b[38;5;241m=\u001b[39m \u001b[38;5;28;43mint\u001b[39;49m\u001b[43m(\u001b[49m\u001b[38;5;241;43m2\u001b[39;49m\u001b[43m \u001b[49m\u001b[38;5;241;43m*\u001b[39;49m\u001b[38;5;241;43m*\u001b[39;49m\u001b[43m \u001b[49m\u001b[43mnp\u001b[49m\u001b[38;5;241;43m.\u001b[39;49m\u001b[43mceil\u001b[49m\u001b[43m(\u001b[49m\u001b[43m(\u001b[49m\u001b[43meta2\u001b[49m\u001b[43m \u001b[49m\u001b[38;5;241;43m-\u001b[39;49m\u001b[43m \u001b[49m\u001b[43meta1\u001b[49m\u001b[43m)\u001b[49m\u001b[43m \u001b[49m\u001b[38;5;241;43m/\u001b[39;49m\u001b[43m \u001b[49m\u001b[43mhalfpi\u001b[49m\u001b[43m)\u001b[49m\u001b[43m)\u001b[49m\n\u001b[0;32m    955\u001b[0m \u001b[38;5;28;01mif\u001b[39;00m n \u001b[38;5;241m<\u001b[39m \u001b[38;5;241m1\u001b[39m:\n\u001b[0;32m    956\u001b[0m     \u001b[38;5;28;01mraise\u001b[39;00m \u001b[38;5;167;01mValueError\u001b[39;00m(\u001b[38;5;124m\"\u001b[39m\u001b[38;5;124mn must be >= 1 or None\u001b[39m\u001b[38;5;124m\"\u001b[39m)\n",
      "\u001b[1;31mValueError\u001b[0m: cannot convert float NaN to integer"
     ]
    },
    {
     "name": "stderr",
     "output_type": "stream",
     "text": [
      "posx and posy should be finite values\n",
      "posx and posy should be finite values\n",
      "posx and posy should be finite values\n",
      "posx and posy should be finite values\n"
     ]
    },
    {
     "ename": "ValueError",
     "evalue": "need at least one array to concatenate",
     "output_type": "error",
     "traceback": [
      "\u001b[1;31m---------------------------------------------------------------------------\u001b[0m",
      "\u001b[1;31mValueError\u001b[0m                                Traceback (most recent call last)",
      "File \u001b[1;32m~\\anaconda3\\lib\\site-packages\\IPython\\core\\formatters.py:340\u001b[0m, in \u001b[0;36mBaseFormatter.__call__\u001b[1;34m(self, obj)\u001b[0m\n\u001b[0;32m    338\u001b[0m     \u001b[38;5;28;01mpass\u001b[39;00m\n\u001b[0;32m    339\u001b[0m \u001b[38;5;28;01melse\u001b[39;00m:\n\u001b[1;32m--> 340\u001b[0m     \u001b[38;5;28;01mreturn\u001b[39;00m \u001b[43mprinter\u001b[49m\u001b[43m(\u001b[49m\u001b[43mobj\u001b[49m\u001b[43m)\u001b[49m\n\u001b[0;32m    341\u001b[0m \u001b[38;5;66;03m# Finally look for special method names\u001b[39;00m\n\u001b[0;32m    342\u001b[0m method \u001b[38;5;241m=\u001b[39m get_real_method(obj, \u001b[38;5;28mself\u001b[39m\u001b[38;5;241m.\u001b[39mprint_method)\n",
      "File \u001b[1;32m~\\anaconda3\\lib\\site-packages\\IPython\\core\\pylabtools.py:152\u001b[0m, in \u001b[0;36mprint_figure\u001b[1;34m(fig, fmt, bbox_inches, base64, **kwargs)\u001b[0m\n\u001b[0;32m    149\u001b[0m     \u001b[38;5;28;01mfrom\u001b[39;00m \u001b[38;5;21;01mmatplotlib\u001b[39;00m\u001b[38;5;21;01m.\u001b[39;00m\u001b[38;5;21;01mbackend_bases\u001b[39;00m \u001b[38;5;28;01mimport\u001b[39;00m FigureCanvasBase\n\u001b[0;32m    150\u001b[0m     FigureCanvasBase(fig)\n\u001b[1;32m--> 152\u001b[0m fig\u001b[38;5;241m.\u001b[39mcanvas\u001b[38;5;241m.\u001b[39mprint_figure(bytes_io, \u001b[38;5;241m*\u001b[39m\u001b[38;5;241m*\u001b[39mkw)\n\u001b[0;32m    153\u001b[0m data \u001b[38;5;241m=\u001b[39m bytes_io\u001b[38;5;241m.\u001b[39mgetvalue()\n\u001b[0;32m    154\u001b[0m \u001b[38;5;28;01mif\u001b[39;00m fmt \u001b[38;5;241m==\u001b[39m \u001b[38;5;124m'\u001b[39m\u001b[38;5;124msvg\u001b[39m\u001b[38;5;124m'\u001b[39m:\n",
      "File \u001b[1;32m~\\anaconda3\\lib\\site-packages\\matplotlib\\backend_bases.py:2346\u001b[0m, in \u001b[0;36mFigureCanvasBase.print_figure\u001b[1;34m(self, filename, dpi, facecolor, edgecolor, orientation, format, bbox_inches, pad_inches, bbox_extra_artists, backend, **kwargs)\u001b[0m\n\u001b[0;32m   2344\u001b[0m \u001b[38;5;28;01mif\u001b[39;00m bbox_inches:\n\u001b[0;32m   2345\u001b[0m     \u001b[38;5;28;01mif\u001b[39;00m bbox_inches \u001b[38;5;241m==\u001b[39m \u001b[38;5;124m\"\u001b[39m\u001b[38;5;124mtight\u001b[39m\u001b[38;5;124m\"\u001b[39m:\n\u001b[1;32m-> 2346\u001b[0m         bbox_inches \u001b[38;5;241m=\u001b[39m \u001b[38;5;28;43mself\u001b[39;49m\u001b[38;5;241;43m.\u001b[39;49m\u001b[43mfigure\u001b[49m\u001b[38;5;241;43m.\u001b[39;49m\u001b[43mget_tightbbox\u001b[49m\u001b[43m(\u001b[49m\n\u001b[0;32m   2347\u001b[0m \u001b[43m            \u001b[49m\u001b[43mrenderer\u001b[49m\u001b[43m,\u001b[49m\u001b[43m \u001b[49m\u001b[43mbbox_extra_artists\u001b[49m\u001b[38;5;241;43m=\u001b[39;49m\u001b[43mbbox_extra_artists\u001b[49m\u001b[43m)\u001b[49m\n\u001b[0;32m   2348\u001b[0m         \u001b[38;5;28;01mif\u001b[39;00m pad_inches \u001b[38;5;129;01mis\u001b[39;00m \u001b[38;5;28;01mNone\u001b[39;00m:\n\u001b[0;32m   2349\u001b[0m             pad_inches \u001b[38;5;241m=\u001b[39m rcParams[\u001b[38;5;124m'\u001b[39m\u001b[38;5;124msavefig.pad_inches\u001b[39m\u001b[38;5;124m'\u001b[39m]\n",
      "File \u001b[1;32m~\\anaconda3\\lib\\site-packages\\matplotlib\\figure.py:1776\u001b[0m, in \u001b[0;36mFigureBase.get_tightbbox\u001b[1;34m(self, renderer, bbox_extra_artists)\u001b[0m\n\u001b[0;32m   1773\u001b[0m     artists \u001b[38;5;241m=\u001b[39m bbox_extra_artists\n\u001b[0;32m   1775\u001b[0m \u001b[38;5;28;01mfor\u001b[39;00m a \u001b[38;5;129;01min\u001b[39;00m artists:\n\u001b[1;32m-> 1776\u001b[0m     bbox \u001b[38;5;241m=\u001b[39m \u001b[43ma\u001b[49m\u001b[38;5;241;43m.\u001b[39;49m\u001b[43mget_tightbbox\u001b[49m\u001b[43m(\u001b[49m\u001b[43mrenderer\u001b[49m\u001b[43m)\u001b[49m\n\u001b[0;32m   1777\u001b[0m     \u001b[38;5;28;01mif\u001b[39;00m bbox \u001b[38;5;129;01mis\u001b[39;00m \u001b[38;5;129;01mnot\u001b[39;00m \u001b[38;5;28;01mNone\u001b[39;00m:\n\u001b[0;32m   1778\u001b[0m         bb\u001b[38;5;241m.\u001b[39mappend(bbox)\n",
      "File \u001b[1;32m~\\anaconda3\\lib\\site-packages\\matplotlib\\axes\\_base.py:4408\u001b[0m, in \u001b[0;36m_AxesBase.get_tightbbox\u001b[1;34m(self, renderer, call_axes_locator, bbox_extra_artists, for_layout_only)\u001b[0m\n\u001b[0;32m   4405\u001b[0m     bbox_artists \u001b[38;5;241m=\u001b[39m \u001b[38;5;28mself\u001b[39m\u001b[38;5;241m.\u001b[39mget_default_bbox_extra_artists()\n\u001b[0;32m   4407\u001b[0m \u001b[38;5;28;01mfor\u001b[39;00m a \u001b[38;5;129;01min\u001b[39;00m bbox_artists:\n\u001b[1;32m-> 4408\u001b[0m     bbox \u001b[38;5;241m=\u001b[39m \u001b[43ma\u001b[49m\u001b[38;5;241;43m.\u001b[39;49m\u001b[43mget_tightbbox\u001b[49m\u001b[43m(\u001b[49m\u001b[43mrenderer\u001b[49m\u001b[43m)\u001b[49m\n\u001b[0;32m   4409\u001b[0m     \u001b[38;5;28;01mif\u001b[39;00m (bbox \u001b[38;5;129;01mis\u001b[39;00m \u001b[38;5;129;01mnot\u001b[39;00m \u001b[38;5;28;01mNone\u001b[39;00m\n\u001b[0;32m   4410\u001b[0m             \u001b[38;5;129;01mand\u001b[39;00m \u001b[38;5;241m0\u001b[39m \u001b[38;5;241m<\u001b[39m bbox\u001b[38;5;241m.\u001b[39mwidth \u001b[38;5;241m<\u001b[39m np\u001b[38;5;241m.\u001b[39minf\n\u001b[0;32m   4411\u001b[0m             \u001b[38;5;129;01mand\u001b[39;00m \u001b[38;5;241m0\u001b[39m \u001b[38;5;241m<\u001b[39m bbox\u001b[38;5;241m.\u001b[39mheight \u001b[38;5;241m<\u001b[39m np\u001b[38;5;241m.\u001b[39minf):\n\u001b[0;32m   4412\u001b[0m         bb\u001b[38;5;241m.\u001b[39mappend(bbox)\n",
      "File \u001b[1;32m~\\anaconda3\\lib\\site-packages\\matplotlib\\artist.py:367\u001b[0m, in \u001b[0;36mArtist.get_tightbbox\u001b[1;34m(self, renderer)\u001b[0m\n\u001b[0;32m    352\u001b[0m \u001b[38;5;28;01mdef\u001b[39;00m \u001b[38;5;21mget_tightbbox\u001b[39m(\u001b[38;5;28mself\u001b[39m, renderer\u001b[38;5;241m=\u001b[39m\u001b[38;5;28;01mNone\u001b[39;00m):\n\u001b[0;32m    353\u001b[0m \u001b[38;5;250m    \u001b[39m\u001b[38;5;124;03m\"\"\"\u001b[39;00m\n\u001b[0;32m    354\u001b[0m \u001b[38;5;124;03m    Like `.Artist.get_window_extent`, but includes any clipping.\u001b[39;00m\n\u001b[0;32m    355\u001b[0m \n\u001b[1;32m   (...)\u001b[0m\n\u001b[0;32m    365\u001b[0m \u001b[38;5;124;03m        The enclosing bounding box (in figure pixel coordinates).\u001b[39;00m\n\u001b[0;32m    366\u001b[0m \u001b[38;5;124;03m    \"\"\"\u001b[39;00m\n\u001b[1;32m--> 367\u001b[0m     bbox \u001b[38;5;241m=\u001b[39m \u001b[38;5;28;43mself\u001b[39;49m\u001b[38;5;241;43m.\u001b[39;49m\u001b[43mget_window_extent\u001b[49m\u001b[43m(\u001b[49m\u001b[43mrenderer\u001b[49m\u001b[43m)\u001b[49m\n\u001b[0;32m    368\u001b[0m     \u001b[38;5;28;01mif\u001b[39;00m \u001b[38;5;28mself\u001b[39m\u001b[38;5;241m.\u001b[39mget_clip_on():\n\u001b[0;32m    369\u001b[0m         clip_box \u001b[38;5;241m=\u001b[39m \u001b[38;5;28mself\u001b[39m\u001b[38;5;241m.\u001b[39mget_clip_box()\n",
      "File \u001b[1;32m~\\anaconda3\\lib\\site-packages\\matplotlib\\patches.py:604\u001b[0m, in \u001b[0;36mPatch.get_window_extent\u001b[1;34m(self, renderer)\u001b[0m\n\u001b[0;32m    603\u001b[0m \u001b[38;5;28;01mdef\u001b[39;00m \u001b[38;5;21mget_window_extent\u001b[39m(\u001b[38;5;28mself\u001b[39m, renderer\u001b[38;5;241m=\u001b[39m\u001b[38;5;28;01mNone\u001b[39;00m):\n\u001b[1;32m--> 604\u001b[0m     \u001b[38;5;28;01mreturn\u001b[39;00m \u001b[38;5;28;43mself\u001b[39;49m\u001b[38;5;241;43m.\u001b[39;49m\u001b[43mget_path\u001b[49m\u001b[43m(\u001b[49m\u001b[43m)\u001b[49m\u001b[38;5;241;43m.\u001b[39;49m\u001b[43mget_extents\u001b[49m\u001b[43m(\u001b[49m\u001b[38;5;28;43mself\u001b[39;49m\u001b[38;5;241;43m.\u001b[39;49m\u001b[43mget_transform\u001b[49m\u001b[43m(\u001b[49m\u001b[43m)\u001b[49m\u001b[43m)\u001b[49m\n",
      "File \u001b[1;32m~\\anaconda3\\lib\\site-packages\\matplotlib\\path.py:638\u001b[0m, in \u001b[0;36mPath.get_extents\u001b[1;34m(self, transform, **kwargs)\u001b[0m\n\u001b[0;32m    636\u001b[0m         \u001b[38;5;66;03m# as can the ends of the curve\u001b[39;00m\n\u001b[0;32m    637\u001b[0m         xys\u001b[38;5;241m.\u001b[39mappend(curve([\u001b[38;5;241m0\u001b[39m, \u001b[38;5;241m*\u001b[39mdzeros, \u001b[38;5;241m1\u001b[39m]))\n\u001b[1;32m--> 638\u001b[0m     xys \u001b[38;5;241m=\u001b[39m \u001b[43mnp\u001b[49m\u001b[38;5;241;43m.\u001b[39;49m\u001b[43mconcatenate\u001b[49m\u001b[43m(\u001b[49m\u001b[43mxys\u001b[49m\u001b[43m)\u001b[49m\n\u001b[0;32m    639\u001b[0m \u001b[38;5;28;01mif\u001b[39;00m \u001b[38;5;28mlen\u001b[39m(xys):\n\u001b[0;32m    640\u001b[0m     \u001b[38;5;28;01mreturn\u001b[39;00m Bbox([xys\u001b[38;5;241m.\u001b[39mmin(axis\u001b[38;5;241m=\u001b[39m\u001b[38;5;241m0\u001b[39m), xys\u001b[38;5;241m.\u001b[39mmax(axis\u001b[38;5;241m=\u001b[39m\u001b[38;5;241m0\u001b[39m)])\n",
      "File \u001b[1;32m<__array_function__ internals>:200\u001b[0m, in \u001b[0;36mconcatenate\u001b[1;34m(*args, **kwargs)\u001b[0m\n",
      "\u001b[1;31mValueError\u001b[0m: need at least one array to concatenate"
     ]
    },
    {
     "data": {
      "text/plain": [
       "<Figure size 640x480 with 1 Axes>"
      ]
     },
     "metadata": {},
     "output_type": "display_data"
    }
   ],
   "source": [
    "_,_,pcts = plt.pie(pass_qc.value_counts().reindex([False,True]),\n",
    "        labels = ['Failed','Passed'],\n",
    "        colors=['tab:red','tab:blue'],\n",
    "        autopct='%.0f%%',textprops={'size':16});\n",
    "\n",
    "# Colors percents white\n",
    "for pct in pcts:\n",
    "    pct.set_color('white')"
   ]
  },
  {
   "cell_type": "markdown",
   "metadata": {},
   "source": [
    "# Save current metadata"
   ]
  },
  {
   "cell_type": "markdown",
   "metadata": {},
   "source": [
    "Enter path of interim metadata files here. It is recommended that the ``metadata_qc.tsv`` file is copied to a new ``metadata_qc_curated.tsv`` file before editing. This will prevent this notebook from over-writing any curated metadata."
   ]
  },
  {
   "cell_type": "code",
   "execution_count": 58,
   "metadata": {
    "tags": []
   },
   "outputs": [],
   "source": [
    "metadata_all_qc_file = path.join('qc_data', 'interim_data', 'DDB_SD_2_metadata_qc_part1_all.tsv') # Enter filename for full metadata QC file\n",
    "metadata_qc_file = path.join('qc_data', 'interim_data', 'DDB_SD_2_metadata_qc_part1.tsv') # Enter filename for metadata QC file with only passing datasets"
   ]
  },
  {
   "cell_type": "code",
   "execution_count": 59,
   "metadata": {
    "tags": []
   },
   "outputs": [],
   "source": [
    "DF_metadata.to_csv(metadata_all_qc_file, sep='\\t')\n",
    "DF_metadata_passed.to_csv(metadata_qc_file, sep='\\t')"
   ]
  },
  {
   "cell_type": "markdown",
   "metadata": {},
   "source": [
    "# Metadata Curation"
   ]
  },
  {
   "cell_type": "markdown",
   "metadata": {},
   "source": [
    "The next step is to curate the metadata. At a minimum, three new columns must be added to the metadata sheet:\n",
    "* ``project``: Nickname for the project. Each bioproject should have a unique project IDs.\n",
    "* ``condition``: Nickname for the experimental condition. Biological/technical replicates must have identical condition IDs.\n",
    "* ``reference_condition``: Condition ID of the reference condition. Each project has a single reference condition (See [example metadata sheet](https://github.com/SBRG/nf-rnaseq-bacteria/blob/master/example_data/processed_data/metadata_curated.tsv))\n",
    "\n",
    "Additional columns may include:\n",
    "* ``strain_description``: The strain name, and any knock-outs or overexpressed genes\n",
    "* ``base_media``: Media used (e.g. ``M9``)\n",
    "* ``carbon_source``: Primary carbon source, with concentration in parentheses (e.g. ``glucose(.4%)``). This is usually empty for undefined media.\n",
    "* ``nitrogen_source``: Primary nitrogen source, with concentration in parentheses (e.g. ``NH4Cl(1M)``). This is usually empty for undefined media.\n",
    "* ``aerobicity``: Usually ``aerobic`` or ``anaerobic``\n",
    "* ``treatment``: Any additional supplements or treatments added to the base media (e.g. ``thiamine(0.1M)`` or ``ampicillin(100ug/mL)``)\n",
    "* ``temperature``\n",
    "* ``pH``\n",
    "* ``OD``: Approximate optical density of cells when selected for library preparation\n",
    "* ``growth_phase``: e.g. ``mid-exponential`` or ``stationary``\n",
    "* ``culture_type``: Usually ``batch`` or ``chemostat``\n",
    "* ``skip``: Whether to skip a sample due to external reasons (e.g. not traditional RNA-seq, distant strain, or lack of metadata)\n",
    "\n",
    "If specific metadata entries are not reported for a sample, these can be left blank. However, if no metadata can be gleaned from public databases, then we recommend discarding the samples.\n",
    "\n",
    "Once the metadata has been curated, proceed to [Step 2](https://github.com/avsastry/modulome-workflow/edit/main/3_quality_control/expression_QC_part2.ipynb)"
   ]
  },
  {
   "cell_type": "code",
   "execution_count": null,
   "metadata": {},
   "outputs": [],
   "source": []
  }
 ],
 "metadata": {
  "kernelspec": {
   "display_name": "Python 3 (ipykernel)",
   "language": "python",
   "name": "python3"
  },
  "language_info": {
   "codemirror_mode": {
    "name": "ipython",
    "version": 3
   },
   "file_extension": ".py",
   "mimetype": "text/x-python",
   "name": "python",
   "nbconvert_exporter": "python",
   "pygments_lexer": "ipython3",
   "version": "3.9.7"
  },
  "toc": {
   "base_numbering": 1,
   "nav_menu": {},
   "number_sections": true,
   "sideBar": true,
   "skip_h1_title": false,
   "title_cell": "Table of Contents",
   "title_sidebar": "Contents",
   "toc_cell": true,
   "toc_position": {},
   "toc_section_display": true,
   "toc_window_display": false
  }
 },
 "nbformat": 4,
 "nbformat_minor": 4
}
